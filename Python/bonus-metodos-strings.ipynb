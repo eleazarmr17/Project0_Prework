{
 "cells": [
  {
   "cell_type": "markdown",
   "metadata": {},
   "source": [
    "<div style=\"text-align: center;\">\n",
    "  <img src=\"https://github.com/Hack-io-Data/Imagenes/blob/main/01-LogosHackio/logo_celeste@4x.png?raw=true\" alt=\"esquema\" />\n",
    "</div>"
   ]
  },
  {
   "cell_type": "markdown",
   "metadata": {},
   "source": [
    "\n",
    "#### Genera un dicionario con los nombres, apellidos y empresas de la siguinete lista de correos. \n",
    "\n",
    "Te deberá quedar un diccionario parecido al que se muestra a continuación: \n",
    "\n",
    "![resultado](https://github.com/Hack-io-Data/Imagenes/blob/main/04-Prework/Python/diccionario-bonus-strings.png?raw=true)"
   ]
  },
  {
   "cell_type": "code",
   "execution_count": 6,
   "metadata": {},
   "outputs": [],
   "source": [
    "a = \"\"\"john.doe@tecnologiainnovadora.com\n",
    "jane.doe@empresatecnologica.com\n",
    "jim.smith@solucionesdigitales.com\n",
    "mary.jane@tecnologiapionera.com\n",
    "bob.jones@innovaciontecnologica.com\n",
    "alice.smith@desarrollotecnologico.com\n",
    "tom.jones@tecnologiadinamica.com\n",
    "sally.jones@tecnologiamoderna.com\n",
    "jerry.smith@solucionestech.com\n",
    "beth.jones@tecnologiavanguardista.com\n",
    "john.smith@tecnologiasavanzadas.com\n",
    "jane.doe@empresadigital.com\n",
    "jim.jones@tecnologiadinamica.com\n",
    "mary.smith@innovaciondigital.com\n",
    "bob.doe@solucionesinformaticas.com\n",
    "\"\"\"\n"
   ]
  },
  {
   "cell_type": "code",
   "execution_count": 7,
   "metadata": {},
   "outputs": [
    {
     "name": "stdout",
     "output_type": "stream",
     "text": [
      "['john.doe@tecnologiainnovadora.com', 'jane.doe@empresatecnologica.com', 'jim.smith@solucionesdigitales.com', 'mary.jane@tecnologiapionera.com', 'bob.jones@innovaciontecnologica.com', 'alice.smith@desarrollotecnologico.com', 'tom.jones@tecnologiadinamica.com', 'sally.jones@tecnologiamoderna.com', 'jerry.smith@solucionestech.com', 'beth.jones@tecnologiavanguardista.com', 'john.smith@tecnologiasavanzadas.com', 'jane.doe@empresadigital.com', 'jim.jones@tecnologiadinamica.com', 'mary.smith@innovaciondigital.com', 'bob.doe@solucionesinformaticas.com']\n"
     ]
    }
   ],
   "source": [
    "# Primero vamos a aplicar la funcion split para separar los diferentes correos\n",
    "a = a.split()\n",
    "print(a)"
   ]
  },
  {
   "cell_type": "code",
   "execution_count": 12,
   "metadata": {},
   "outputs": [],
   "source": [
    "# Separamos en nombre, apellido y empresa y añadimos al diccionario\n",
    "results = []\n",
    "\n",
    "for email in a:\n",
    "    name_part, domain_part = email.split('@')\n",
    "    name, surname = name_part.split('.')\n",
    "    company = domain_part.split('.')[0]\n",
    "    results.append({\n",
    "        'Nombre' : name.capitalize(),\n",
    "        'Apellido' : surname.capitalize(),\n",
    "        'Empresa' : company.capitalize()\n",
    "    })"
   ]
  },
  {
   "cell_type": "code",
   "execution_count": 13,
   "metadata": {},
   "outputs": [
    {
     "name": "stdout",
     "output_type": "stream",
     "text": [
      "[{'Nombre': 'John', 'Apellido': 'Doe', 'Empresa': 'Tecnologiainnovadora'}, {'Nombre': 'Jane', 'Apellido': 'Doe', 'Empresa': 'Empresatecnologica'}, {'Nombre': 'Jim', 'Apellido': 'Smith', 'Empresa': 'Solucionesdigitales'}, {'Nombre': 'Mary', 'Apellido': 'Jane', 'Empresa': 'Tecnologiapionera'}, {'Nombre': 'Bob', 'Apellido': 'Jones', 'Empresa': 'Innovaciontecnologica'}, {'Nombre': 'Alice', 'Apellido': 'Smith', 'Empresa': 'Desarrollotecnologico'}, {'Nombre': 'Tom', 'Apellido': 'Jones', 'Empresa': 'Tecnologiadinamica'}, {'Nombre': 'Sally', 'Apellido': 'Jones', 'Empresa': 'Tecnologiamoderna'}, {'Nombre': 'Jerry', 'Apellido': 'Smith', 'Empresa': 'Solucionestech'}, {'Nombre': 'Beth', 'Apellido': 'Jones', 'Empresa': 'Tecnologiavanguardista'}, {'Nombre': 'John', 'Apellido': 'Smith', 'Empresa': 'Tecnologiasavanzadas'}, {'Nombre': 'Jane', 'Apellido': 'Doe', 'Empresa': 'Empresadigital'}, {'Nombre': 'Jim', 'Apellido': 'Jones', 'Empresa': 'Tecnologiadinamica'}, {'Nombre': 'Mary', 'Apellido': 'Smith', 'Empresa': 'Innovaciondigital'}, {'Nombre': 'Bob', 'Apellido': 'Doe', 'Empresa': 'Solucionesinformaticas'}]\n"
     ]
    }
   ],
   "source": [
    "# Imprimimos el resultado\n",
    "print(results)"
   ]
  }
 ],
 "metadata": {
  "kernelspec": {
   "display_name": "Python 3",
   "language": "python",
   "name": "python3"
  },
  "language_info": {
   "codemirror_mode": {
    "name": "ipython",
    "version": 3
   },
   "file_extension": ".py",
   "mimetype": "text/x-python",
   "name": "python",
   "nbconvert_exporter": "python",
   "pygments_lexer": "ipython3",
   "version": "3.13.1"
  }
 },
 "nbformat": 4,
 "nbformat_minor": 2
}

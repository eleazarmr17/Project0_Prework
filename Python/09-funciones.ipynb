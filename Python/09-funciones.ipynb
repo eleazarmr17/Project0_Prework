{
 "cells": [
  {
   "cell_type": "markdown",
   "metadata": {},
   "source": [
    "\n",
    "<div style=\"text-align: center;\">\n",
    "  <img src=\"https://github.com/Hack-io-Data/Imagenes/blob/main/01-LogosHackio/logo_celeste@4x.png?raw=true\" alt=\"esquema\" />\n",
    "</div>"
   ]
  },
  {
   "cell_type": "markdown",
   "metadata": {},
   "source": [
    "#### 1. Escribe una función sin parámetros que imprima el siguiente mensaje \"¡Hola! Bienvenido.\"\n"
   ]
  },
  {
   "cell_type": "code",
   "execution_count": 1,
   "metadata": {},
   "outputs": [
    {
     "name": "stdout",
     "output_type": "stream",
     "text": [
      "¡Hola! Bienvenido\n"
     ]
    }
   ],
   "source": [
    "def Hola():\n",
    "    print('¡Hola! Bienvenido')\n",
    "\n",
    "Hola()"
   ]
  },
  {
   "cell_type": "markdown",
   "metadata": {},
   "source": [
    "#### 2. Escribe una función que reciba dos parámetros y devuelva la suma de ambos.\n"
   ]
  },
  {
   "cell_type": "code",
   "execution_count": 2,
   "metadata": {},
   "outputs": [
    {
     "name": "stdout",
     "output_type": "stream",
     "text": [
      "18\n"
     ]
    }
   ],
   "source": [
    "def suma(a,b):\n",
    "    return a + b\n",
    "\n",
    "resultado = suma(8,10)\n",
    "print(resultado)"
   ]
  },
  {
   "cell_type": "markdown",
   "metadata": {},
   "source": [
    "#### 3. Escribe una función que reciba un número y devuelva True si es par, False si no lo es."
   ]
  },
  {
   "cell_type": "code",
   "execution_count": 3,
   "metadata": {},
   "outputs": [
    {
     "name": "stdout",
     "output_type": "stream",
     "text": [
      "True\n"
     ]
    }
   ],
   "source": [
    "def par_o_impar(n):\n",
    "    if n % 2 == 0:\n",
    "        return True\n",
    "    else:\n",
    "        return False\n",
    "\n",
    "print(par_o_impar(8))"
   ]
  },
  {
   "cell_type": "markdown",
   "metadata": {},
   "source": [
    "#### 4. Escribe un función que devuelva un saludo personalizado a una persona dado su nombre. \n"
   ]
  },
  {
   "cell_type": "code",
   "execution_count": 4,
   "metadata": {},
   "outputs": [
    {
     "name": "stdout",
     "output_type": "stream",
     "text": [
      "Hola Ramiro\n"
     ]
    }
   ],
   "source": [
    "def saludo(nombre):\n",
    "    print('Hola',nombre)\n",
    "\n",
    "saludo('Ramiro')"
   ]
  },
  {
   "cell_type": "markdown",
   "metadata": {},
   "source": [
    "#### 5. Escribe una función que sume todos los números que reciba como argumento. La función debe recibir una cantidad variable de argumentos y devolver la suma de todos ellos."
   ]
  },
  {
   "cell_type": "code",
   "execution_count": 5,
   "metadata": {},
   "outputs": [
    {
     "name": "stdout",
     "output_type": "stream",
     "text": [
      "55\n"
     ]
    }
   ],
   "source": [
    "def suma_numeros(lista):\n",
    "    suma = 0\n",
    "    for i in lista:\n",
    "        suma = suma + i\n",
    "    return suma\n",
    "\n",
    "print(suma_numeros([1,2,3,4,5,6,7,8,9,10]))"
   ]
  },
  {
   "cell_type": "markdown",
   "metadata": {},
   "source": [
    "#### 6. Escribe una función que cuente las letras de una palabra y devuelva un diccionario con la cantidad de veces que se repite cada letra \n"
   ]
  },
  {
   "cell_type": "code",
   "execution_count": 6,
   "metadata": {},
   "outputs": [
    {
     "name": "stdout",
     "output_type": "stream",
     "text": [
      "{'e': 2, 'l': 1, 'a': 2, 'z': 1, 'r': 1}\n"
     ]
    }
   ],
   "source": [
    "def num_caracteres(palabra):\n",
    "    conteo = {}\n",
    "    palabra = palabra.lower() # La convertimos en minusculas para que no diferencia entre mayusculas y minusculas\n",
    "    for letra in palabra:\n",
    "        if letra in conteo:\n",
    "            conteo[letra] += 1  \n",
    "        else:\n",
    "            conteo[letra] = 1  \n",
    "    \n",
    "    return conteo\n",
    "\n",
    "print(num_caracteres('Eleazar'))"
   ]
  },
  {
   "cell_type": "markdown",
   "metadata": {},
   "source": [
    "#### 7. Escribe un función recursiva para calcular el factorial de un número entero no negativo."
   ]
  },
  {
   "cell_type": "code",
   "execution_count": 7,
   "metadata": {},
   "outputs": [
    {
     "name": "stdout",
     "output_type": "stream",
     "text": [
      "24\n"
     ]
    }
   ],
   "source": [
    "def factorial(n):\n",
    "    # Caso base: el factorial de 0 o 1 es 1\n",
    "    if n == 0 or n == 1:\n",
    "        return 1\n",
    "    # Caso recursivo: n * factorial(n-1)\n",
    "    else:\n",
    "        return n * factorial(n - 1)\n",
    "\n",
    "print(factorial(4))"
   ]
  },
  {
   "cell_type": "markdown",
   "metadata": {},
   "source": [
    "#### 8. Escribe una función que tome dos parámetros: `figura` (una cadena que puede ser `\"rectangulo\"`, `\"circulo\"` o `\"triangulo\"`) y `datos` (una tupla con los datos necesarios para calcular el área de la figura). "
   ]
  },
  {
   "cell_type": "code",
   "execution_count": 8,
   "metadata": {},
   "outputs": [
    {
     "name": "stdout",
     "output_type": "stream",
     "text": [
      "25.0\n",
      "50\n",
      "78.5\n",
      "Datos inválidos para un círculo. Se necesita solo el radio.\n",
      "Figura no reconocida. Usa 'triangulo', 'rectangulo' o 'circulo'.\n"
     ]
    }
   ],
   "source": [
    "\n",
    "def area_figura(figura, datos):\n",
    "    if figura == 'triangulo':\n",
    "        # Se espera que datos sea una tupla (base, altura)\n",
    "        if len(datos) == 2:\n",
    "            base, altura = datos\n",
    "            area = (base * altura) / 2\n",
    "        else:\n",
    "            return \"Datos inválidos para un triángulo. Se necesitan base y altura.\"\n",
    "    \n",
    "    elif figura == 'rectangulo':\n",
    "        # Se espera que datos sea una tupla (base, altura)\n",
    "        if len(datos) == 2:\n",
    "            base, altura = datos\n",
    "            area = base * altura\n",
    "        else:\n",
    "            return \"Datos inválidos para un rectángulo. Se necesitan base y altura.\"\n",
    "    \n",
    "    elif figura == 'circulo':\n",
    "        # Se espera que datos sea una tupla con un único valor: el radio\n",
    "        if len(datos) == 1:\n",
    "            radio = datos[0]\n",
    "            area = 3.14 * (radio ** 2)\n",
    "        else:\n",
    "            return \"Datos inválidos para un círculo. Se necesita solo el radio.\"\n",
    "    \n",
    "    else:\n",
    "        return \"Figura no reconocida. Usa 'triangulo', 'rectangulo' o 'circulo'.\"\n",
    "    \n",
    "    return area\n",
    "\n",
    "print(area_figura('triangulo', (5, 10)))  \n",
    "print(area_figura('rectangulo', (5, 10)))  \n",
    "print(area_figura('circulo', (5,)))        \n",
    "print(area_figura('circulo', ()))         \n",
    "print(area_figura('hexagono', (5,)))  \n"
   ]
  },
  {
   "cell_type": "markdown",
   "metadata": {},
   "source": [
    "#### 9. Escribe una función que tome una lista de números como parámetro y devuelva el número más grande de la lista. No utilices la función `max()` de Python en tu solución."
   ]
  },
  {
   "cell_type": "code",
   "execution_count": 9,
   "metadata": {},
   "outputs": [
    {
     "name": "stdout",
     "output_type": "stream",
     "text": [
      "17\n"
     ]
    }
   ],
   "source": [
    "def maximo_lista(lista):\n",
    "    maximo = lista[0] # inicializamos con el primer elemento de la lista\n",
    "    for i in lista:\n",
    "        if i > maximo:\n",
    "            maximo = i\n",
    "    return maximo\n",
    "\n",
    "print(maximo_lista([2,-1, 3, 4, 1, 17, 1, 17]))"
   ]
  },
  {
   "cell_type": "markdown",
   "metadata": {},
   "source": [
    "#### 10. Escribe una función que tome una cadena como parámetro un texto y devuelva `True` si la cadena es un palíndromo (se lee igual de izquierda a derecha que de derecha a izquierda), y `False` en caso contrario. Ignora los espacios y considera mayúsculas y minúsculas de manera insensible.\n"
   ]
  },
  {
   "cell_type": "code",
   "execution_count": 10,
   "metadata": {},
   "outputs": [
    {
     "name": "stdout",
     "output_type": "stream",
     "text": [
      "False\n",
      "True\n"
     ]
    }
   ],
   "source": [
    "def palindromo(palabra):\n",
    "    palabra = palabra.lower()\n",
    "    palabra_reverse = palabra[::-1]\n",
    "    if palabra == palabra_reverse:\n",
    "        return True\n",
    "    else:\n",
    "        return False\n",
    "print(palindromo('Perro'))\n",
    "print(palindromo('Sometemos'))"
   ]
  },
  {
   "cell_type": "markdown",
   "metadata": {},
   "source": [
    "#### 11. Escribe una función que tome una cadena como parámetro y devuelva dos valores: la cantidad de vocales y la cantidad de consonantes presentes en la cadena. Ignora los espacios y considera mayúsculas y minúsculas de manera insensible.\n"
   ]
  },
  {
   "cell_type": "code",
   "execution_count": 11,
   "metadata": {},
   "outputs": [
    {
     "name": "stdout",
     "output_type": "stream",
     "text": [
      "Conteo vocales: 3\n",
      "Conteo consonantes: 4\n"
     ]
    }
   ],
   "source": [
    "def vocales_consonantes(palabra):\n",
    "    palabra = palabra.lower()\n",
    "    vocales = 'aeiou'\n",
    "    num_vocales = 0\n",
    "    num_consonantes = 0\n",
    "    for letra in palabra:\n",
    "        if letra in vocales:\n",
    "            num_vocales += 1\n",
    "        else:\n",
    "            num_consonantes += 1\n",
    "    print('Conteo vocales:',num_vocales)\n",
    "    print('Conteo consonantes:',num_consonantes)\n",
    "\n",
    "vocales_consonantes('palabra')"
   ]
  }
 ],
 "metadata": {
  "kernelspec": {
   "display_name": "Python 3",
   "language": "python",
   "name": "python3"
  },
  "language_info": {
   "codemirror_mode": {
    "name": "ipython",
    "version": 3
   },
   "file_extension": ".py",
   "mimetype": "text/x-python",
   "name": "python",
   "nbconvert_exporter": "python",
   "pygments_lexer": "ipython3",
   "version": "3.13.1"
  }
 },
 "nbformat": 4,
 "nbformat_minor": 2
}

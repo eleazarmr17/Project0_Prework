{
 "cells": [
  {
   "cell_type": "markdown",
   "metadata": {},
   "source": [
    "<div style=\"text-align: center;\">\n",
    "  <img src=\"https://github.com/Hack-io-Data/Imagenes/blob/main/01-LogosHackio/logo_celeste@4x.png?raw=true\" alt=\"esquema\" />\n",
    "</div>\n"
   ]
  },
  {
   "cell_type": "markdown",
   "metadata": {},
   "source": [
    "# Comprobación de calidad de contraseñas\n",
    "\n",
    "En este ejercicio, tendrás que generar un programa que sea capaz de comprobar la calidad de contraseñas. La seguridad de nuestras contraseñas es fundamental para proteger nuestra información personal y evitar posibles ataques cibernéticos. Para ello, vamos a crear una función llamada `verificar_seguridad_contrasena` que evaluará la calidad de una contraseña. Esta función tomará como argumento la contraseña a evaluar y devolverá si la contraseña es segura o no basado en los siguientes criterios:\n",
    "\n",
    "1. La contraseña deberá tener al menos 8 caracteres.\n",
    "\n",
    "2. La contraseña deberá tener al menos una letra mayúscula.\n",
    "\n",
    "3. La contraseña deberá tener al menos una letra minúscula. \n",
    "\n",
    "4. La contraseña deberá tener al menos un número. \n",
    "\n",
    "5. La contraseña deberá tener al menos un caracter especial. \n",
    "\n",
    "6. La contraseña no deberá tener espacios en blanco. \n",
    "\n",
    "7. La contraseña no deberá tener caracteres repetidos. \n"
   ]
  },
  {
   "cell_type": "code",
   "execution_count": 3,
   "metadata": {},
   "outputs": [],
   "source": [
    "def verificar_seguridad_contraseña(contraseña):\n",
    "    tiene_mayuscula = any(letra.isupper() for letra in contraseña) # Verificar mayuscula\n",
    "    tiene_minuscula = any(letra.islower() for letra in contraseña) # Verificar minuscula\n",
    "    tiene_numero = any(letra.isdigit() for letra in contraseña) # Verificar numero\n",
    "    tiene_caracteres_especiales = any(not letra.isalnum() for letra in contraseña) # Verificar caracter especial\n",
    "    tiene_espacios = \" \" in contraseña # Verificar espacios en blanco\n",
    "    \n",
    "    # Verificar caracteres repetidos\n",
    "    caracteres_vistos = set()\n",
    "    tiene_repetidos = False\n",
    "    for letra in contraseña:\n",
    "        if letra in caracteres_vistos:\n",
    "            tiene_repetidos = True\n",
    "            break\n",
    "        caracteres_vistos.add(letra)\n",
    "\n",
    "    if len(contraseña) < 8:\n",
    "        print('Contraseña muy corta, tiene que ser de minimo 8 caracteres')\n",
    "        seguridad = False\n",
    "    elif tiene_mayuscula == False:\n",
    "        print('La contraseña debe tener al menos una mayuscula')\n",
    "        seguridad = False\n",
    "    elif tiene_minuscula == False:\n",
    "        print('La contraseña debe tener al menos una minuscula')\n",
    "        seguridad = False\n",
    "    elif tiene_numero == False:\n",
    "        print('La contraseña debe tener al menos un numero')\n",
    "        seguridad = False\n",
    "    elif tiene_caracteres_especiales == False:\n",
    "        print('La contraseña debe tener al menos un caracter especial')\n",
    "        seguridad = False\n",
    "    elif tiene_espacios == True:\n",
    "        print('La contraseña no debe tener espacios')\n",
    "        seguridad = False\n",
    "    elif tiene_repetidos:\n",
    "        print('La contraseña no debe tener caracteres repetidos')\n",
    "        seguridad = False\n",
    "    else:\n",
    "        seguridad = True\n",
    "    \n",
    "    if seguridad == True:\n",
    "        print('Tu contraseña es segura y puedes utilizarla')\n",
    "    else:\n",
    "        print('Tu contraseña no es segura, pruebe con otra contraseña')"
   ]
  },
  {
   "cell_type": "code",
   "execution_count": 10,
   "metadata": {},
   "outputs": [
    {
     "name": "stdout",
     "output_type": "stream",
     "text": [
      "Tu contraseña es segura y puedes utilizarla\n"
     ]
    }
   ],
   "source": [
    "contraseña = str(input('Introduce una contraseña'))\n",
    "verificar_seguridad_contraseña(contraseña)"
   ]
  }
 ],
 "metadata": {
  "kernelspec": {
   "display_name": "Python 3",
   "language": "python",
   "name": "python3"
  },
  "language_info": {
   "codemirror_mode": {
    "name": "ipython",
    "version": 3
   },
   "file_extension": ".py",
   "mimetype": "text/x-python",
   "name": "python",
   "nbconvert_exporter": "python",
   "pygments_lexer": "ipython3",
   "version": "3.13.1"
  }
 },
 "nbformat": 4,
 "nbformat_minor": 2
}

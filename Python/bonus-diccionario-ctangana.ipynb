{
 "cells": [
  {
   "cell_type": "markdown",
   "metadata": {},
   "source": [
    "<div style=\"text-align: center;\">\n",
    "  <img src=\"https://github.com/Hack-io-Data/Imagenes/blob/main/01-LogosHackio/logo_celeste@4x.png?raw=true\" alt=\"esquema\" />\n",
    "</div>\n"
   ]
  },
  {
   "cell_type": "markdown",
   "metadata": {},
   "source": [
    "# Ejercicio cTangana\n",
    "\n",
    "En este ejercicio tiene como objetivo principal que practiques y domines varias habilidades en Python, como la manipulación de *strings*, el uso de estructuras de datos como listas y diccionarios, y la implementación de técnicas básicas de conteo y ordenamiento. Los pasos que deberéis seguir para realizar este ejercicio son: \n",
    "\n",
    "1. Busca la letra de C. Tangana, Andrés Calamaro - Hong Kong y almacenala como una cadena de strings en `letra_cancion`.\n",
    "\n",
    "2. Crea una lista `palabras` utilizando `letra_cancion`.\n",
    "\n",
    "3. Crea un diccionario `frecuencia_palabras` en el que aparezca como claves cada una de las palabras de `letra_cancion` y sus valores que sea el numero de ocurrencia\n",
    "\n",
    "4. Ordena alfabeticamente las claves de `frecuencia_palabras` \n",
    "\n",
    "5. Crea un nuevo diccionario llamado `frecuencia_palabras2` con el orden obtenido en la pregunta 4.\n",
    "\n",
    "6. Ordenar los valores de `frecuencia_palabras2` de forma ascendente.\n",
    "\n",
    "***HINT***: Ordenar los valores de un diccionario es más complicado que ordenar las claves porque los valores de un diccionario no son únicos. Por lo tanto, no puedes usar la misma forma en que ordenaste las claves del diccionario para ordenar los valores del diccionario. La forma de ordenar un diccionario por valor es utilizar las funciones sorted y operator.itemgetter. \n"
   ]
  },
  {
   "cell_type": "code",
   "execution_count": 2,
   "metadata": {},
   "outputs": [
    {
     "name": "stdout",
     "output_type": "stream",
     "text": [
      "Lo que no hay en Hong Kong es que no existe\n",
      "Salimos a la calle por tabaco\n",
      "Volvimos sin tabaco ni mechero\n",
      "Tomamos hasta el agua del florero\n",
      "Aquello fue peor que Puerto Hurraco\n",
      "Me cago en las personas que se rajan\n",
      "Muy antes de que se acabe la noche\n",
      "Peinábamos perico con navaja\n",
      "En el salpicadero de tu coche\n",
      "Tengo una flor en el culo y un camello en Hong Kong\n",
      "Tengo un cohete en el pantalón\n",
      "Tengo una flor en el culo y una geisha en Japón\n",
      "Tus banderillas en el corazón\n",
      "Hagamos que parezca un accidente\n",
      "Decirme que no tengo que ir a casa\n",
      "Espero que esto dure para siempre\n",
      "Sabemos qué es torear en peores plazas\n",
      "Historias que jamás pueden contarse\n",
      "Batallas que no pueden repetirse\n",
      "Victorias para el que supo quedarse\n",
      "¿Pa' qué cojones sirve arrepentirse?\n",
      "Tengo una flor en el culo y un camello en Hong Kong\n",
      "Tengo un cohete en el pantalón\n",
      "Tengo una flor en el culo y una geisha en Japón\n",
      "Tus banderillas en el corazón\n",
      "Tengo una flor en el culo y un camello en Hong Kong\n",
      "Tengo un cohete en el pantalón\n",
      "Tengo una flor en el culo y una geisha en Japón\n",
      "Tus banderillas en el corazón\n"
     ]
    }
   ],
   "source": [
    "letra_cancion = \"\"\"Lo que no hay en Hong Kong es que no existe\n",
    "Salimos a la calle por tabaco\n",
    "Volvimos sin tabaco ni mechero\n",
    "Tomamos hasta el agua del florero\n",
    "Aquello fue peor que Puerto Hurraco\n",
    "Me cago en las personas que se rajan\n",
    "Muy antes de que se acabe la noche\n",
    "Peinábamos perico con navaja\n",
    "En el salpicadero de tu coche\n",
    "Tengo una flor en el culo y un camello en Hong Kong\n",
    "Tengo un cohete en el pantalón\n",
    "Tengo una flor en el culo y una geisha en Japón\n",
    "Tus banderillas en el corazón\n",
    "Hagamos que parezca un accidente\n",
    "Decirme que no tengo que ir a casa\n",
    "Espero que esto dure para siempre\n",
    "Sabemos qué es torear en peores plazas\n",
    "Historias que jamás pueden contarse\n",
    "Batallas que no pueden repetirse\n",
    "Victorias para el que supo quedarse\n",
    "¿Pa' qué cojones sirve arrepentirse?\n",
    "Tengo una flor en el culo y un camello en Hong Kong\n",
    "Tengo un cohete en el pantalón\n",
    "Tengo una flor en el culo y una geisha en Japón\n",
    "Tus banderillas en el corazón\n",
    "Tengo una flor en el culo y un camello en Hong Kong\n",
    "Tengo un cohete en el pantalón\n",
    "Tengo una flor en el culo y una geisha en Japón\n",
    "Tus banderillas en el corazón\"\"\"\n",
    "\n",
    "print(letra_cancion)"
   ]
  },
  {
   "cell_type": "code",
   "execution_count": 7,
   "metadata": {},
   "outputs": [
    {
     "name": "stdout",
     "output_type": "stream",
     "text": [
      "['lo', 'que', 'no', 'hay', 'en', 'hong', 'kong', 'es', 'que', 'no', 'existe', 'salimos', 'a', 'la', 'calle', 'por', 'tabaco', 'volvimos', 'sin', 'tabaco', 'ni', 'mechero', 'tomamos', 'hasta', 'el', 'agua', 'del', 'florero', 'aquello', 'fue', 'peor', 'que', 'puerto', 'hurraco', 'me', 'cago', 'en', 'las', 'personas', 'que', 'se', 'rajan', 'muy', 'antes', 'de', 'que', 'se', 'acabe', 'la', 'noche', 'peinábamos', 'perico', 'con', 'navaja', 'en', 'el', 'salpicadero', 'de', 'tu', 'coche', 'tengo', 'una', 'flor', 'en', 'el', 'culo', 'y', 'un', 'camello', 'en', 'hong', 'kong', 'tengo', 'un', 'cohete', 'en', 'el', 'pantalón', 'tengo', 'una', 'flor', 'en', 'el', 'culo', 'y', 'una', 'geisha', 'en', 'japón', 'tus', 'banderillas', 'en', 'el', 'corazón', 'hagamos', 'que', 'parezca', 'un', 'accidente', 'decirme', 'que', 'no', 'tengo', 'que', 'ir', 'a', 'casa', 'espero', 'que', 'esto', 'dure', 'para', 'siempre', 'sabemos', 'qué', 'es', 'torear', 'en', 'peores', 'plazas', 'historias', 'que', 'jamás', 'pueden', 'contarse', 'batallas', 'que', 'no', 'pueden', 'repetirse', 'victorias', 'para', 'el', 'que', 'supo', 'quedarse', \"¿pa'\", 'qué', 'cojones', 'sirve', 'arrepentirse?', 'tengo', 'una', 'flor', 'en', 'el', 'culo', 'y', 'un', 'camello', 'en', 'hong', 'kong', 'tengo', 'un', 'cohete', 'en', 'el', 'pantalón', 'tengo', 'una', 'flor', 'en', 'el', 'culo', 'y', 'una', 'geisha', 'en', 'japón', 'tus', 'banderillas', 'en', 'el', 'corazón', 'tengo', 'una', 'flor', 'en', 'el', 'culo', 'y', 'un', 'camello', 'en', 'hong', 'kong', 'tengo', 'un', 'cohete', 'en', 'el', 'pantalón', 'tengo', 'una', 'flor', 'en', 'el', 'culo', 'y', 'una', 'geisha', 'en', 'japón', 'tus', 'banderillas', 'en', 'el', 'corazón']\n"
     ]
    }
   ],
   "source": [
    "palabras = letra_cancion.split()\n",
    "for i in range(len(palabras)):\n",
    "    palabras[i] = palabras[i].lower()\n",
    "\n",
    "print(palabras)"
   ]
  },
  {
   "cell_type": "code",
   "execution_count": 10,
   "metadata": {},
   "outputs": [
    {
     "name": "stdout",
     "output_type": "stream",
     "text": [
      "{'lo': 1, 'que': 12, 'no': 4, 'hay': 1, 'en': 22, 'hong': 4, 'kong': 4, 'es': 2, 'existe': 1, 'salimos': 1, 'a': 2, 'la': 2, 'calle': 1, 'por': 1, 'tabaco': 2, 'volvimos': 1, 'sin': 1, 'ni': 1, 'mechero': 1, 'tomamos': 1, 'hasta': 1, 'el': 15, 'agua': 1, 'del': 1, 'florero': 1, 'aquello': 1, 'fue': 1, 'peor': 1, 'puerto': 1, 'hurraco': 1, 'me': 1, 'cago': 1, 'las': 1, 'personas': 1, 'se': 2, 'rajan': 1, 'muy': 1, 'antes': 1, 'de': 2, 'acabe': 1, 'noche': 1, 'peinábamos': 1, 'perico': 1, 'con': 1, 'navaja': 1, 'salpicadero': 1, 'tu': 1, 'coche': 1, 'tengo': 10, 'una': 9, 'flor': 6, 'culo': 6, 'y': 6, 'un': 7, 'camello': 3, 'cohete': 3, 'pantalón': 3, 'geisha': 3, 'japón': 3, 'tus': 3, 'banderillas': 3, 'corazón': 3, 'hagamos': 1, 'parezca': 1, 'accidente': 1, 'decirme': 1, 'ir': 1, 'casa': 1, 'espero': 1, 'esto': 1, 'dure': 1, 'para': 2, 'siempre': 1, 'sabemos': 1, 'qué': 2, 'torear': 1, 'peores': 1, 'plazas': 1, 'historias': 1, 'jamás': 1, 'pueden': 2, 'contarse': 1, 'batallas': 1, 'repetirse': 1, 'victorias': 1, 'supo': 1, 'quedarse': 1, \"¿pa'\": 1, 'cojones': 1, 'sirve': 1, 'arrepentirse?': 1}\n"
     ]
    }
   ],
   "source": [
    "conteo_palabras = {}\n",
    "\n",
    "for palabra in palabras:\n",
    "    if palabra in conteo_palabras:\n",
    "        conteo_palabras[palabra] += 1\n",
    "    else:\n",
    "        conteo_palabras[palabra] = 1\n",
    "print(conteo_palabras)"
   ]
  },
  {
   "cell_type": "code",
   "execution_count": 13,
   "metadata": {},
   "outputs": [
    {
     "name": "stdout",
     "output_type": "stream",
     "text": [
      "{'en': 22, 'el': 15, 'que': 12, 'tengo': 10, 'una': 9, 'un': 7, 'flor': 6, 'culo': 6, 'y': 6, 'no': 4, 'hong': 4, 'kong': 4, 'camello': 3, 'cohete': 3, 'pantalón': 3, 'geisha': 3, 'japón': 3, 'tus': 3, 'banderillas': 3, 'corazón': 3, 'es': 2, 'a': 2, 'la': 2, 'tabaco': 2, 'se': 2, 'de': 2, 'para': 2, 'qué': 2, 'pueden': 2, 'lo': 1, 'hay': 1, 'existe': 1, 'salimos': 1, 'calle': 1, 'por': 1, 'volvimos': 1, 'sin': 1, 'ni': 1, 'mechero': 1, 'tomamos': 1, 'hasta': 1, 'agua': 1, 'del': 1, 'florero': 1, 'aquello': 1, 'fue': 1, 'peor': 1, 'puerto': 1, 'hurraco': 1, 'me': 1, 'cago': 1, 'las': 1, 'personas': 1, 'rajan': 1, 'muy': 1, 'antes': 1, 'acabe': 1, 'noche': 1, 'peinábamos': 1, 'perico': 1, 'con': 1, 'navaja': 1, 'salpicadero': 1, 'tu': 1, 'coche': 1, 'hagamos': 1, 'parezca': 1, 'accidente': 1, 'decirme': 1, 'ir': 1, 'casa': 1, 'espero': 1, 'esto': 1, 'dure': 1, 'siempre': 1, 'sabemos': 1, 'torear': 1, 'peores': 1, 'plazas': 1, 'historias': 1, 'jamás': 1, 'contarse': 1, 'batallas': 1, 'repetirse': 1, 'victorias': 1, 'supo': 1, 'quedarse': 1, \"¿pa'\": 1, 'cojones': 1, 'sirve': 1, 'arrepentirse?': 1}\n"
     ]
    }
   ],
   "source": [
    "conteo_ordenado = sorted(conteo_palabras.items(), key=lambda x: x[1], reverse=True)\n",
    "\n",
    "conteo_ordenado_dict = dict(conteo_ordenado)\n",
    "\n",
    "# Print the sorted result\n",
    "print(conteo_ordenado_dict)\n"
   ]
  },
  {
   "cell_type": "code",
   "execution_count": 15,
   "metadata": {},
   "outputs": [
    {
     "name": "stdout",
     "output_type": "stream",
     "text": [
      "{'lo': 1, 'hay': 1, 'existe': 1, 'salimos': 1, 'calle': 1, 'por': 1, 'volvimos': 1, 'sin': 1, 'ni': 1, 'mechero': 1, 'tomamos': 1, 'hasta': 1, 'agua': 1, 'del': 1, 'florero': 1, 'aquello': 1, 'fue': 1, 'peor': 1, 'puerto': 1, 'hurraco': 1, 'me': 1, 'cago': 1, 'las': 1, 'personas': 1, 'rajan': 1, 'muy': 1, 'antes': 1, 'acabe': 1, 'noche': 1, 'peinábamos': 1, 'perico': 1, 'con': 1, 'navaja': 1, 'salpicadero': 1, 'tu': 1, 'coche': 1, 'hagamos': 1, 'parezca': 1, 'accidente': 1, 'decirme': 1, 'ir': 1, 'casa': 1, 'espero': 1, 'esto': 1, 'dure': 1, 'siempre': 1, 'sabemos': 1, 'torear': 1, 'peores': 1, 'plazas': 1, 'historias': 1, 'jamás': 1, 'contarse': 1, 'batallas': 1, 'repetirse': 1, 'victorias': 1, 'supo': 1, 'quedarse': 1, \"¿pa'\": 1, 'cojones': 1, 'sirve': 1, 'arrepentirse?': 1, 'es': 2, 'a': 2, 'la': 2, 'tabaco': 2, 'se': 2, 'de': 2, 'para': 2, 'qué': 2, 'pueden': 2, 'camello': 3, 'cohete': 3, 'pantalón': 3, 'geisha': 3, 'japón': 3, 'tus': 3, 'banderillas': 3, 'corazón': 3, 'no': 4, 'hong': 4, 'kong': 4, 'flor': 6, 'culo': 6, 'y': 6, 'un': 7, 'una': 9, 'tengo': 10, 'que': 12, 'el': 15, 'en': 22}\n"
     ]
    }
   ],
   "source": [
    "conteo_ordenado = sorted(conteo_palabras.items(), key=lambda x: x[1]) # Solo hay que cambiar el reverse = True\n",
    "\n",
    "conteo_ordenado_dict = dict(conteo_ordenado)\n",
    "\n",
    "print(conteo_ordenado_dict)\n"
   ]
  }
 ],
 "metadata": {
  "kernelspec": {
   "display_name": "Python 3",
   "language": "python",
   "name": "python3"
  },
  "language_info": {
   "codemirror_mode": {
    "name": "ipython",
    "version": 3
   },
   "file_extension": ".py",
   "mimetype": "text/x-python",
   "name": "python",
   "nbconvert_exporter": "python",
   "pygments_lexer": "ipython3",
   "version": "3.13.1"
  }
 },
 "nbformat": 4,
 "nbformat_minor": 2
}

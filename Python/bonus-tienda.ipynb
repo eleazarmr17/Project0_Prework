{
 "cells": [
  {
   "cell_type": "markdown",
   "metadata": {},
   "source": [
    "<div style=\"text-align: center;\">\n",
    "  <img src=\"https://github.com/Hack-io-Data/Imagenes/blob/main/01-LogosHackio/logo_celeste@4x.png?raw=true\" alt=\"esquema\" />\n",
    "</div>\n"
   ]
  },
  {
   "cell_type": "markdown",
   "metadata": {},
   "source": [
    "En este ejercicio, se te pedirá que escribas un programa en Python que utilice condicionales para determinar el monto final de una compra en una tienda en línea, después de aplicar un descuento. El programa debe hacer lo siguiente:\n",
    "\n",
    "1. Solicita al usuario que ingrese el precio original de un artículo.\n",
    "\n",
    "2. Pregunta al usuario si tiene un cupón de descuento (respuesta sí o no).\n",
    "\n",
    "3. Si el usuario responde que sí, solicita que ingrese el valor del cupón de descuento.\n",
    "\n",
    "4. Aplica el descuento al precio original del artículo, siempre y cuando el valor del cupón sea válido (es decir, mayor a cero). Por ejemplo, descuento de 15€. \n",
    "\n",
    "5. Muestra el precio final de la compra, teniendo en cuenta el descuento aplicado o sin él. \n",
    "\n",
    "6. Recuerda utilizar estructuras de control de flujo como if, elif y else para llevar a cabo estas acciones en tu programa de Python."
   ]
  },
  {
   "cell_type": "code",
   "execution_count": 8,
   "metadata": {},
   "outputs": [
    {
     "name": "stdout",
     "output_type": "stream",
     "text": [
      "Su precio final es de 0\n"
     ]
    }
   ],
   "source": [
    "precio_original = float(input('Ingrese el precio original del artículo'))\n",
    "if precio_original > 0:\n",
    "    respuesta = str(input('¿Posee algun cupon descuento?(si/no)')).lower()\n",
    "    if respuesta in ['si', 'sí']:\n",
    "        valor_cupon = float(input('Ingrese el valor del cupon'))\n",
    "        if valor_cupon > 0:\n",
    "            if valor_cupon > precio_original:\n",
    "                precio_descuento = 0\n",
    "            else:\n",
    "                precio_descuento = precio_original - valor_cupon\n",
    "            print('Su precio final es de',precio_descuento)\n",
    "        else:\n",
    "            print('Cupon invalido')\n",
    "    else:\n",
    "        print('Su precio final es de',precio_original)\n",
    "else:\n",
    "    print('Precio no valido')"
   ]
  },
  {
   "cell_type": "markdown",
   "metadata": {},
   "source": [
    "Modifica el programa anterior para que el usuario ingrese un porcentaje de descuento en lugar de un valor fijo (por ejemplo, 30%). Aplica el descuento en base al porcentaje ingresado."
   ]
  },
  {
   "cell_type": "code",
   "execution_count": 16,
   "metadata": {},
   "outputs": [
    {
     "name": "stdout",
     "output_type": "stream",
     "text": [
      "Cupon invalido\n"
     ]
    }
   ],
   "source": [
    "precio_original = float(input('Ingrese el precio original del artículo'))\n",
    "if precio_original > 0:\n",
    "    respuesta = str(input('¿Posee algun cupon descuento?(si/no)')).lower()\n",
    "    if respuesta in ['si', 'sí']:\n",
    "        porcentaje_cupon = str(input('Ingrese el porcentaje de descuento del cupon (por ejemplo 30%)'))\n",
    "        porcentaje_01 = porcentaje_cupon.split('%')[0]\n",
    "        porcentaje_01 = int(porcentaje_01)/100\n",
    "        if porcentaje_01 > 0 and porcentaje_01 <= 1:\n",
    "            precio_descuento = precio_original * (1-porcentaje_01)\n",
    "            print('Su precio final es de',precio_descuento)\n",
    "        else:\n",
    "            print('Cupon invalido')\n",
    "    else:\n",
    "        print('Su precio final es de',precio_original)\n",
    "else:\n",
    "    print('Precio no valido')"
   ]
  },
  {
   "cell_type": "markdown",
   "metadata": {},
   "source": [
    "Modifica el programa anterior agregando un límite al descuento, donde el descuento mínimo sea del 5% y el máximo del 50%. Si el usuario ingresa un porcentaje fuera de este rango, notifíquele y aplique el descuento mínimo o máximo según sea el caso."
   ]
  },
  {
   "cell_type": "code",
   "execution_count": 20,
   "metadata": {},
   "outputs": [
    {
     "name": "stdout",
     "output_type": "stream",
     "text": [
      "Cupon invalido\n"
     ]
    }
   ],
   "source": [
    "precio_original = float(input('Ingrese el precio original del artículo'))\n",
    "if precio_original > 0:\n",
    "    respuesta = str(input('¿Posee algun cupon descuento?(si/no)')).lower()\n",
    "    if respuesta in ['si', 'sí']:\n",
    "        porcentaje_cupon = str(input('Ingrese el porcentaje de descuento del cupon (por ejemplo 30%)'))\n",
    "        porcentaje_01 = porcentaje_cupon.split('%')[0]\n",
    "        if int(porcentaje_01) >=5 and int(porcentaje_01) <= 50:\n",
    "            porcentaje_01 = int(porcentaje_01)/100\n",
    "            if porcentaje_01 > 0 and porcentaje_01 <= 1:\n",
    "                precio_descuento = precio_original * (1-porcentaje_01)\n",
    "                print('Su precio final es de',precio_descuento)\n",
    "        else:\n",
    "            print('Cupon invalido')\n",
    "    else:\n",
    "        print('Su precio final es de',precio_original)\n",
    "else:\n",
    "    print('Precio no valido')"
   ]
  },
  {
   "cell_type": "markdown",
   "metadata": {},
   "source": [
    "Crea un programa nuevo que permita al usuario ingresar varios artículos, cada uno con su precio original y cupón de descuento. Aplica los descuentos correspondientes a cada producto y muestra el monto total final de la compra."
   ]
  },
  {
   "cell_type": "code",
   "execution_count": 26,
   "metadata": {},
   "outputs": [
    {
     "name": "stdout",
     "output_type": "stream",
     "text": [
      "Cupon invalido\n",
      "Los precios no fueron modificados: [10.0, 22.0]\n"
     ]
    }
   ],
   "source": [
    "precio_original = []\n",
    "respuesta_articulo = True\n",
    "n = 0\n",
    "while respuesta_articulo:\n",
    "    precio_original.append(float(input('Ingrese el precio original del artículo')))\n",
    "    resp = str(input('Quieres añadir algun otro articulo? (si/no)')).lower()\n",
    "    if resp == 'no':\n",
    "        respuesta_articulo = False\n",
    "\n",
    "respuesta = str(input('¿Posee algun cupon descuento?(si/no)')).lower()\n",
    "if respuesta in ['si', 'sí']:\n",
    "    porcentaje_cupon = str(input('Ingrese el porcentaje de descuento del cupon (por ejemplo 30%)'))\n",
    "    porcentaje_01 = porcentaje_cupon.split('%')[0]\n",
    "    if int(porcentaje_01) >=5 and int(porcentaje_01) <= 50:\n",
    "        porcentaje_01 = int(porcentaje_01)/100\n",
    "        for i in precio_original:\n",
    "            i = i*(1-porcentaje_01)\n",
    "            n += 1\n",
    "            print('El articulo {a} tiene un precio de {b}$'.format(a=n,b=i))\n",
    "    else:\n",
    "        print('Cupon invalido')\n",
    "        print('Los precios no fueron modificados:',precio_original)\n",
    "else:\n",
    "    print('Los precios no fueron modificados:',precio_original)\n"
   ]
  },
  {
   "cell_type": "markdown",
   "metadata": {},
   "source": [
    "Crea un nuevo programa que permita aplicar descuentos por categorías. En este caso, nuestra tienda aplicará descuentos en función de la categoría (por ejemplo, electrónica, ropa, juguetes). Pregunta al usuario a que categoría pertenece su producto y aplica el descuento correspondiente a la categoría. Debes solicitar al usuario que ingrese la categoría del articulo y el precio para aplicarle el descuento. "
   ]
  },
  {
   "cell_type": "code",
   "execution_count": 29,
   "metadata": {},
   "outputs": [
    {
     "name": "stdout",
     "output_type": "stream",
     "text": [
      "Categoría inválida. Intente de nuevo.\n",
      "Los precios tras aplicar el descuento son []\n"
     ]
    }
   ],
   "source": [
    "# Categorías y descuentos predefinidos\n",
    "categorias = ['electronica', 'ropa', 'juguetes']\n",
    "descuentos = [0.05, 0.1, 0.15]  # Descuentos del 5%, 10% y 15%\n",
    "\n",
    "# Diccionario de descuentos por categoría\n",
    "descuentos_por_categoria = dict(zip(categorias, descuentos))\n",
    "\n",
    "# Listas para almacenar precios y categorías de los artículos\n",
    "precio_original = []\n",
    "categoria_original = []\n",
    "\n",
    "# Entrada de productos\n",
    "respuesta_articulo = True\n",
    "while respuesta_articulo:\n",
    "    # Obtener precio y categoría\n",
    "    precio = float(input('Ingrese el precio original del artículo: '))\n",
    "    categoria = input('Introduce la categoría del producto (electronica, ropa o juguetes): ').lower()\n",
    "\n",
    "    # Verificar si la categoría es válida\n",
    "    if categoria in descuentos_por_categoria:\n",
    "        precio_original.append(precio)\n",
    "        categoria_original.append(categoria)\n",
    "    else:\n",
    "        print(\"Categoría inválida. Intente de nuevo.\")\n",
    "\n",
    "    # Preguntar si desea añadir otro artículo\n",
    "    resp = input('¿Quieres añadir algún otro artículo? (si/no): ').lower()\n",
    "    if resp == 'no':\n",
    "        respuesta_articulo = False\n",
    "\n",
    "# Aplicar descuentos por categoría\n",
    "precios_con_descuento = []\n",
    "for precio, categoria in zip(precio_original, categoria_original):\n",
    "    descuento = descuentos_por_categoria.get(categoria, 0)  # Obtener el descuento según la categoría\n",
    "    precio_final = precio * (1 - descuento)  # Aplicar descuento\n",
    "    precios_con_descuento.append(precio_final)\n",
    "\n",
    "\n",
    "\n",
    "print('Los precios tras aplicar el descuento son',precios_con_descuento)"
   ]
  },
  {
   "cell_type": "markdown",
   "metadata": {},
   "source": [
    "Crea un nuevo programa que aplique descuentos automáticos en función de la fecha actual. Aplica un descuento del 10% en compras realizadas entre lunes y viernes o un descuento del 15% en compras realizadas durante los fines de semana."
   ]
  },
  {
   "cell_type": "code",
   "execution_count": 33,
   "metadata": {},
   "outputs": [
    {
     "name": "stdout",
     "output_type": "stream",
     "text": [
      "Los precio modificados son: [1048.8999999999999]\n"
     ]
    }
   ],
   "source": [
    "# Categorías y descuentos predefinidos\n",
    "fechas = ['diario', 'fines']\n",
    "descuentos = [0.1, 0.15]  # Descuentos del 10% y 15%\n",
    "\n",
    "# Diccionario de descuentos por categoría\n",
    "descuentos_por_categoria = dict(zip(fechas, descuentos))\n",
    "\n",
    "# Listas para almacenar precios de los artículos\n",
    "precio_original = []\n",
    "\n",
    "while True:\n",
    "    fecha = input('Introduce el día de la semana (Lunes, Martes, Miercoles...): ').lower()\n",
    "    if fecha in ['lunes', 'martes', 'miercoles', 'jueves', 'viernes']:\n",
    "        fecha_intervalo = 'diario'\n",
    "        break\n",
    "    elif fecha in ['sabado', 'domingo']:\n",
    "        fecha_intervalo = 'fines'\n",
    "        break\n",
    "    else:\n",
    "        print(\"Fecha inválida. Intente de nuevo.\")\n",
    "\n",
    "# Entrada de productos\n",
    "respuesta_articulo = True\n",
    "while respuesta_articulo:\n",
    "    # Obtener precio\n",
    "    precio = float(input('Ingrese el precio original del artículo: '))\n",
    "    precio_original.append(precio)\n",
    "\n",
    "    # Preguntar si desea añadir otro artículo\n",
    "    resp = input('¿Quieres añadir algún otro artículo? (si/no): ').lower()\n",
    "    if resp == 'no':\n",
    "        respuesta_articulo = False\n",
    "\n",
    "# Aplicar descuentos por fecha\n",
    "descuento = descuentos_por_categoria.get(fecha_intervalo, 0)  # Obtener el descuento según el día\n",
    "precios_con_descuento = [precio * (1 - descuento) for precio in precio_original]\n",
    "\n",
    "# Mostrar resultados\n",
    "print('Los precio modificados son:',precios_con_descuento)\n"
   ]
  },
  {
   "cell_type": "markdown",
   "metadata": {},
   "source": [
    "Crea un programa nuevo que implemente un sistema de membresía donde los usuarios registrados obtengan un descuento adicional del 5%. Solicita al usuario que ingrese su nombre de usuario y contraseña para verificar su membresía y aplique el descuento adicional si corresponde. \n",
    "\n",
    "📝 Nota: Para este ejercicio solo tendremos un usuario registrado. El usuario es `USUARIO` y la contraseña es  `USUARIO123`. \n"
   ]
  },
  {
   "cell_type": "code",
   "execution_count": 35,
   "metadata": {},
   "outputs": [
    {
     "name": "stdout",
     "output_type": "stream",
     "text": [
      "Membresía verificada. ¡Descuento adicional aplicado!\n",
      "Los precios son: [95.0, 9.5]\n"
     ]
    }
   ],
   "source": [
    "# Sistema de Membresía con Descuento\n",
    "\n",
    "# Datos de membresía predefinidos\n",
    "usuario_registrado = \"USUARIO\"\n",
    "contraseña_correcta = \"USUARIO123\"\n",
    "descuento_membresia = 0.05  # 5% de descuento para usuarios registrados\n",
    "\n",
    "# Función para verificar membresía\n",
    "def verificar_membresia():\n",
    "    nombre_usuario = input(\"Ingrese su nombre de usuario: \")\n",
    "    contraseña = input(\"Ingrese su contraseña: \")\n",
    "\n",
    "    if nombre_usuario == usuario_registrado and contraseña == contraseña_correcta:\n",
    "        print(\"Membresía verificada. ¡Descuento adicional aplicado!\")\n",
    "        return True\n",
    "    else:\n",
    "        print(\"Credenciales incorrectas. No se aplicará el descuento de membresía.\")\n",
    "        return False\n",
    "\n",
    "\n",
    "# Función para realizar el proceso de compra con descuento\n",
    "def realizar_compra():\n",
    "    # Preguntar si el usuario tiene membresía\n",
    "    es_miembro = verificar_membresia()\n",
    "\n",
    "    # Listas para precios y descuentos\n",
    "    precios_originales = []\n",
    "    respuesta_articulo = True\n",
    "\n",
    "    # Entrada de productos\n",
    "    while respuesta_articulo:\n",
    "        precio = float(input(\"Ingrese el precio del artículo: \"))\n",
    "        precios_originales.append(precio)\n",
    "\n",
    "        # Preguntar si desea añadir otro artículo\n",
    "        resp = input(\"¿Desea agregar otro artículo? (si/no): \").lower()\n",
    "        if resp == \"no\":\n",
    "            respuesta_articulo = False\n",
    "\n",
    "    # Aplicar descuento según membresía\n",
    "    precios_con_descuento = []\n",
    "    for precio in precios_originales:\n",
    "        if es_miembro:\n",
    "            precio_con_descuento = precio * (1 - descuento_membresia)  # Aplicar 5% de descuento\n",
    "        else:\n",
    "            precio_con_descuento = precio\n",
    "        precios_con_descuento.append(precio_con_descuento)\n",
    "\n",
    "    # Mostrar resultados\n",
    "    print(\"Los precios son:\",precios_con_descuento)\n",
    "\n",
    "\n",
    "# Ejecutar el programa\n",
    "realizar_compra()\n"
   ]
  },
  {
   "cell_type": "markdown",
   "metadata": {},
   "source": [
    "Crea un nuevo programa que ofrezca un descuento del 10% adicional si el usuario compra más de 5 artículos del mismo tipo. Debes verificar la cantidad de productos comprados y aplicar el descuento adicional si corresponde.\n"
   ]
  },
  {
   "cell_type": "code",
   "execution_count": 41,
   "metadata": {},
   "outputs": [
    {
     "name": "stdout",
     "output_type": "stream",
     "text": [
      "Membresía verificada. ¡Descuento adicional aplicado!\n",
      "Los precios de los articulos son: [0.855, 8.55, 85.5, 855.0, 85500.0]\n"
     ]
    }
   ],
   "source": [
    "# Datos de membresía predefinidos\n",
    "usuario_registrado = \"USUARIO\"\n",
    "contraseña_correcta = \"USUARIO123\"\n",
    "descuento_membresia = 0.05  # 5% de descuento para usuarios registrados\n",
    "\n",
    "# Función para verificar membresía\n",
    "def verificar_membresia():\n",
    "    nombre_usuario = input(\"Ingrese su nombre de usuario: \")\n",
    "    contraseña = input(\"Ingrese su contraseña: \")\n",
    "\n",
    "    if nombre_usuario == usuario_registrado and contraseña == contraseña_correcta:\n",
    "        print(\"Membresía verificada. ¡Descuento adicional aplicado!\")\n",
    "        return True\n",
    "    else:\n",
    "        print(\"Credenciales incorrectas. No se aplicará el descuento de membresía.\")\n",
    "        return False\n",
    "\n",
    "\n",
    "# Función para realizar el proceso de compra con descuento\n",
    "def realizar_compra():\n",
    "    # Preguntar si el usuario tiene membresía\n",
    "    es_miembro = verificar_membresia()\n",
    "\n",
    "    # Listas para precios\n",
    "    precios_originales = []\n",
    "    respuesta_articulo = True\n",
    "\n",
    "    # Entrada de productos\n",
    "    while respuesta_articulo:\n",
    "        precio = float(input(\"Ingrese el precio del artículo: \"))\n",
    "        precios_originales.append(precio)\n",
    "\n",
    "        # Preguntar si desea añadir otro artículo\n",
    "        resp = input(\"¿Desea agregar otro artículo? (si/no): \").lower()\n",
    "        if resp == \"no\":\n",
    "            respuesta_articulo = False\n",
    "\n",
    "    # Aplicar descuento según membresía\n",
    "    precios_con_descuento = []\n",
    "    for precio in precios_originales:\n",
    "        if es_miembro:\n",
    "            precio_con_descuento = precio * (1 - descuento_membresia)  # Aplicar 5% de descuento\n",
    "        else:\n",
    "            precio_con_descuento = precio\n",
    "        precios_con_descuento.append(precio_con_descuento)\n",
    "\n",
    "    # Aplicar un 10% adicional si se compran 5 o más artículos\n",
    "    if len(precios_con_descuento) >= 5:\n",
    "        precios_con_descuento = [precio * 0.9 for precio in precios_con_descuento]\n",
    "\n",
    "    # Mostrar resultados\n",
    "    print(\"Los precios de los articulos son:\",precios_con_descuento)\n",
    "\n",
    "\n",
    "# Ejecutar el programa\n",
    "realizar_compra()\n"
   ]
  },
  {
   "cell_type": "markdown",
   "metadata": {},
   "source": [
    "Crea un nuevo programa que ofrezca descuentos progresivos en función del volumen de compra. Aplica un descuento del 5% para compras entre 100€ y 200€, un descuento del 10% para compras entre 200€ y 500€ y un descuento del 15% para compras superiores a 500€."
   ]
  },
  {
   "cell_type": "code",
   "execution_count": 43,
   "metadata": {},
   "outputs": [
    {
     "name": "stdout",
     "output_type": "stream",
     "text": [
      "\n",
      "Resumen de la compra:\n",
      "Total sin descuento: €600.00\n",
      "Descuento aplicado: 15%\n",
      "Total con descuento: €510.00\n"
     ]
    }
   ],
   "source": [
    "# Sistema de Descuentos Progresivos\n",
    "\n",
    "# Función para aplicar descuento progresivo según el total de compra\n",
    "def aplicar_descuento(total_compra):\n",
    "    \"\"\"\n",
    "    Aplica un descuento progresivo según el volumen de la compra:\n",
    "    - 5% para compras entre 100€ y 200€\n",
    "    - 10% para compras entre 200€ y 500€\n",
    "    - 15% para compras mayores a 500€\n",
    "    \"\"\"\n",
    "    if 100 <= total_compra <= 200:\n",
    "        descuento = 0.05  # 5%\n",
    "    elif 200 < total_compra <= 500:\n",
    "        descuento = 0.10  # 10%\n",
    "    elif total_compra > 500:\n",
    "        descuento = 0.15  # 15%\n",
    "    else:\n",
    "        descuento = 0  # Sin descuento\n",
    "    return descuento\n",
    "\n",
    "\n",
    "# Función principal para el proceso de compra\n",
    "def realizar_compra():\n",
    "    # Listas para almacenar precios de los productos\n",
    "    precios = []\n",
    "    \n",
    "    # Entrada de productos\n",
    "    respuesta_articulo = True\n",
    "    while respuesta_articulo:\n",
    "        try:\n",
    "            precio = float(input(\"Ingrese el precio del artículo: \"))\n",
    "            precios.append(precio)\n",
    "\n",
    "            # Preguntar si desea añadir otro artículo\n",
    "            resp = input(\"¿Desea agregar otro artículo? (si/no): \").lower()\n",
    "            if resp == \"no\":\n",
    "                respuesta_articulo = False\n",
    "        except ValueError:\n",
    "            print(\"Por favor, ingrese un precio válido.\")\n",
    "\n",
    "    # Calcular el total de la compra\n",
    "    total_compra = sum(precios)\n",
    "\n",
    "    # Aplicar descuento progresivo\n",
    "    descuento = aplicar_descuento(total_compra)\n",
    "    total_con_descuento = total_compra * (1 - descuento)\n",
    "\n",
    "    # Mostrar resultados\n",
    "    print(\"\\nResumen de la compra:\")\n",
    "    print(f\"Total sin descuento: €{total_compra:.2f}\")\n",
    "    print(f\"Descuento aplicado: {descuento * 100:.0f}%\")\n",
    "    print(f\"Total con descuento: €{total_con_descuento:.2f}\")\n",
    "\n",
    "\n",
    "# Ejecutar el programa\n",
    "realizar_compra()\n"
   ]
  },
  {
   "cell_type": "markdown",
   "metadata": {},
   "source": [
    "Crea un nuevo programa  que ofrezca un descuento adicional del 3% si el usuario paga con tarjeta de crédito o débito. Solicita al usuario que ingrese el método de pago y el descuento original, por último aplica el descuento si corresponde."
   ]
  },
  {
   "cell_type": "code",
   "execution_count": 48,
   "metadata": {},
   "outputs": [
    {
     "name": "stdout",
     "output_type": "stream",
     "text": [
      "\n",
      "Seleccione el nivel de método de pago:\n",
      "1 - Efectivo\n",
      "2 - Tarjeta de débito\n",
      "3 - Tarjeta de crédito\n",
      "\n",
      "Resumen de la Compra:\n",
      "Precio original: €900.00\n",
      "Descuento original: 10%\n",
      "Se aplicó un descuento adicional del 2% por el método de pago con tarjeta de débito.\n",
      "Precio final con descuento: €792.00\n"
     ]
    }
   ],
   "source": [
    "# Sistema de Descuento con Niveles de Pago\n",
    "\n",
    "# Función para aplicar descuentos según el nivel de pago\n",
    "def aplicar_descuento_por_nivel(descuento_original, nivel_pago):\n",
    "    \"\"\"\n",
    "    Aplica descuentos adicionales basados en el nivel de método de pago.\n",
    "    - Nivel 1: Efectivo (0% adicional)\n",
    "    - Nivel 2: Tarjeta de débito (2% adicional)\n",
    "    - Nivel 3: Tarjeta de crédito (3% adicional)\n",
    "    \"\"\"\n",
    "    if nivel_pago == 2:  # Tarjeta de débito\n",
    "        descuento_con_adicional = descuento_original + 0.02\n",
    "        return descuento_con_adicional\n",
    "    elif nivel_pago == 3:  # Tarjeta de crédito\n",
    "        descuento_con_adicional = descuento_original + 0.03\n",
    "        return descuento_con_adicional\n",
    "    return descuento_original\n",
    "\n",
    "\n",
    "# Función principal para el proceso de compra\n",
    "def realizar_compra():\n",
    "    try:\n",
    "        # Solicitar el precio del producto\n",
    "        precio_original = float(input(\"Ingrese el precio original del producto: €\"))\n",
    "        \n",
    "        # Solicitar el descuento original\n",
    "        descuento_original = float(input(\"Ingrese el descuento original en porcentaje (por ejemplo, 10 para 10%): \"))\n",
    "        descuento_original = descuento_original / 100  # Convertir porcentaje a decimal\n",
    "        \n",
    "        # Solicitar el nivel de pago\n",
    "        print(\"\\nSeleccione el nivel de método de pago:\")\n",
    "        print(\"1 - Efectivo\")\n",
    "        print(\"2 - Tarjeta de débito\")\n",
    "        print(\"3 - Tarjeta de crédito\")\n",
    "        nivel_pago = int(input(\"Ingrese el nivel de pago (1, 2, o 3): \"))\n",
    "\n",
    "        # Validar si el nivel de pago es correcto\n",
    "        if nivel_pago not in [1, 2, 3]:\n",
    "            print(\"Nivel de pago inválido. Se procederá con el descuento original sin cambios.\")\n",
    "            nivel_pago = 1\n",
    "\n",
    "        # Aplicar el descuento basado en el nivel de pago\n",
    "        descuento_final = aplicar_descuento_por_nivel(descuento_original, nivel_pago)\n",
    "\n",
    "        # Calcular el precio final\n",
    "        precio_con_descuento = precio_original * (1 - descuento_final)\n",
    "        \n",
    "        # Mostrar resultados\n",
    "        print(\"\\nResumen de la Compra:\")\n",
    "        print(f\"Precio original: €{precio_original:.2f}\")\n",
    "        print(f\"Descuento original: {descuento_original * 100:.0f}%\")\n",
    "        if nivel_pago == 2:\n",
    "            print(\"Se aplicó un descuento adicional del 2% por el método de pago con tarjeta de débito.\")\n",
    "        elif nivel_pago == 3:\n",
    "            print(\"Se aplicó un descuento adicional del 3% por el método de pago con tarjeta de crédito.\")\n",
    "        else:\n",
    "            print(\"No se aplicó descuento adicional por el método de pago (efectivo).\")\n",
    "        print(f\"Precio final con descuento: €{precio_con_descuento:.2f}\")\n",
    "    \n",
    "    except ValueError:\n",
    "        print(\"Por favor, ingrese valores válidos.\")\n",
    "\n",
    "\n",
    "# Ejecutar el programa\n",
    "realizar_compra()\n"
   ]
  }
 ],
 "metadata": {
  "kernelspec": {
   "display_name": "Python 3",
   "language": "python",
   "name": "python3"
  },
  "language_info": {
   "codemirror_mode": {
    "name": "ipython",
    "version": 3
   },
   "file_extension": ".py",
   "mimetype": "text/x-python",
   "name": "python",
   "nbconvert_exporter": "python",
   "pygments_lexer": "ipython3",
   "version": "3.13.1"
  }
 },
 "nbformat": 4,
 "nbformat_minor": 2
}

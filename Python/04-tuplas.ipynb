{
 "cells": [
  {
   "cell_type": "markdown",
   "metadata": {},
   "source": [
    "<div style=\"text-align: center;\">\n",
    "  <img src=\"https://github.com/Hack-io-Data/Imagenes/blob/main/01-LogosHackio/logo_celeste@4x.png?raw=true\" alt=\"logo hack(io)\" />\n",
    "</div>\n"
   ]
  },
  {
   "cell_type": "markdown",
   "metadata": {},
   "source": [
    "#### 1. Crea una tupla llamada `persona` y asigna a ella los valores 'Juan', 25, 75.5, 1.75."
   ]
  },
  {
   "cell_type": "code",
   "execution_count": 9,
   "metadata": {},
   "outputs": [
    {
     "name": "stdout",
     "output_type": "stream",
     "text": [
      "('Juan', 25, 75.5, 1.75)\n"
     ]
    }
   ],
   "source": [
    "persona = ('Juan', 25, 75.5, 1.75)\n",
    "print(persona)"
   ]
  },
  {
   "cell_type": "markdown",
   "metadata": {},
   "source": [
    "#### 2. Crea una tupla llamada `animal` y asigna a ella los valores 'perro', 'gato', 'conejo'."
   ]
  },
  {
   "cell_type": "code",
   "execution_count": 10,
   "metadata": {},
   "outputs": [
    {
     "name": "stdout",
     "output_type": "stream",
     "text": [
      "('perro', 'gato', 'conejo')\n"
     ]
    }
   ],
   "source": [
    "animal = ('perro', 'gato', 'conejo')\n",
    "print(animal)"
   ]
  },
  {
   "cell_type": "markdown",
   "metadata": {},
   "source": [
    "#### 3. Obten la longitud de cada tupla y asigna el resultado a una variable llamada `longitud_persona` y `longitud_animal`.\n"
   ]
  },
  {
   "cell_type": "code",
   "execution_count": 11,
   "metadata": {},
   "outputs": [
    {
     "name": "stdout",
     "output_type": "stream",
     "text": [
      "4\n",
      "3\n"
     ]
    }
   ],
   "source": [
    "longitud_persona = len(persona)\n",
    "longitud_animal = len(animal)\n",
    "print(longitud_persona)\n",
    "print(longitud_animal)"
   ]
  },
  {
   "cell_type": "markdown",
   "metadata": {},
   "source": [
    "#### 4. Imprime en pantalla el valor de cada variable utilizando la función print()."
   ]
  },
  {
   "cell_type": "code",
   "execution_count": 12,
   "metadata": {},
   "outputs": [
    {
     "name": "stdout",
     "output_type": "stream",
     "text": [
      "4\n",
      "3\n"
     ]
    }
   ],
   "source": [
    "print(longitud_persona)\n",
    "print(longitud_animal)"
   ]
  },
  {
   "cell_type": "markdown",
   "metadata": {},
   "source": [
    "#### 5. Convierte la tupla `animal` en una lista. Comprueba que es una lista."
   ]
  },
  {
   "cell_type": "code",
   "execution_count": 13,
   "metadata": {},
   "outputs": [
    {
     "data": {
      "text/plain": [
       "list"
      ]
     },
     "execution_count": 13,
     "metadata": {},
     "output_type": "execute_result"
    }
   ],
   "source": [
    "lista_animal = list(animal)\n",
    "type(lista_animal)"
   ]
  },
  {
   "cell_type": "markdown",
   "metadata": {},
   "source": [
    "#### 6. Genera una tupla anidada nueva compuesta por la tupla `datos` y la lista `animal`. Asigna el resultado a una variable llamada `anidada`."
   ]
  },
  {
   "cell_type": "code",
   "execution_count": 14,
   "metadata": {},
   "outputs": [
    {
     "name": "stdout",
     "output_type": "stream",
     "text": [
      "(('Juan', 25, 75.5, 1.75), ('perro', 'gato', 'conejo'))\n"
     ]
    }
   ],
   "source": [
    "anidada = (persona, animal)\n",
    "print(anidada)"
   ]
  },
  {
   "cell_type": "markdown",
   "metadata": {},
   "source": [
    "#### 7.  Accede al animal 'gato' de la tupla `anidada` e imprímelo en pantalla."
   ]
  },
  {
   "cell_type": "code",
   "execution_count": 16,
   "metadata": {},
   "outputs": [
    {
     "name": "stdout",
     "output_type": "stream",
     "text": [
      "gato\n"
     ]
    }
   ],
   "source": [
    "print(anidada[1][1])"
   ]
  },
  {
   "cell_type": "markdown",
   "metadata": {},
   "source": [
    "#### 8. Crea una tupla donde su unico valor es \"C\"."
   ]
  },
  {
   "cell_type": "code",
   "execution_count": 21,
   "metadata": {},
   "outputs": [
    {
     "name": "stdout",
     "output_type": "stream",
     "text": [
      "('C',)\n"
     ]
    }
   ],
   "source": [
    "tupla_C = ('C',)\n",
    "print(tupla_C)"
   ]
  },
  {
   "cell_type": "markdown",
   "metadata": {},
   "source": [
    "#### 9. Identifica el tipo de dato de la tupla."
   ]
  },
  {
   "cell_type": "code",
   "execution_count": 22,
   "metadata": {},
   "outputs": [
    {
     "data": {
      "text/plain": [
       "tuple"
      ]
     },
     "execution_count": 22,
     "metadata": {},
     "output_type": "execute_result"
    }
   ],
   "source": [
    "type(tupla_C)"
   ]
  },
  {
   "cell_type": "markdown",
   "metadata": {},
   "source": [
    "#### 10. Crea una tupla con los siguientes valores: 'o','s','i','n','c','h','i','s'"
   ]
  },
  {
   "cell_type": "code",
   "execution_count": 23,
   "metadata": {},
   "outputs": [
    {
     "name": "stdout",
     "output_type": "stream",
     "text": [
      "('o', 's', 'i', 'n', 'c', 'h', 'i', 's')\n"
     ]
    }
   ],
   "source": [
    "valores = ('o','s','i','n','c','h','i','s')\n",
    "print(valores)"
   ]
  },
  {
   "cell_type": "markdown",
   "metadata": {},
   "source": [
    "#### 11. Crea una tupla que sea la unión de las dos tuplas anteriores y asigna el resultado a una variable llamada `tupla3`.\n"
   ]
  },
  {
   "cell_type": "code",
   "execution_count": 24,
   "metadata": {},
   "outputs": [
    {
     "name": "stdout",
     "output_type": "stream",
     "text": [
      "(('C',), ('o', 's', 'i', 'n', 'c', 'h', 'i', 's'))\n"
     ]
    }
   ],
   "source": [
    "tupla3 = (tupla_C, valores)\n",
    "print(tupla3)"
   ]
  },
  {
   "cell_type": "markdown",
   "metadata": {},
   "source": [
    "#### 12. ¿Cuál es la longitud de las tuplas `tupla1`,`tupla2` y `tupla3`?"
   ]
  },
  {
   "cell_type": "code",
   "execution_count": 25,
   "metadata": {},
   "outputs": [
    {
     "name": "stdout",
     "output_type": "stream",
     "text": [
      "1\n",
      "8\n",
      "2\n"
     ]
    }
   ],
   "source": [
    "print(len(tupla_C))\n",
    "print(len(valores))\n",
    "print(len(tupla3))"
   ]
  },
  {
   "cell_type": "markdown",
   "metadata": {},
   "source": [
    "#### 13. Comprueba que la longitud de la tupla `tupla3` es igual a la suma de las longitudes de las tuplas `tupla1` y `tupla2`.\n"
   ]
  },
  {
   "cell_type": "code",
   "execution_count": 26,
   "metadata": {},
   "outputs": [
    {
     "data": {
      "text/plain": [
       "False"
      ]
     },
     "execution_count": 26,
     "metadata": {},
     "output_type": "execute_result"
    }
   ],
   "source": [
    "len(tupla3) == len(tupla_C) + len(valores)"
   ]
  },
  {
   "cell_type": "markdown",
   "metadata": {},
   "source": [
    "#### 14. Cual es el indice del valor 'h' en la tupla `tupla2`? y en `tupla3`?"
   ]
  },
  {
   "cell_type": "code",
   "execution_count": 39,
   "metadata": {},
   "outputs": [
    {
     "name": "stdout",
     "output_type": "stream",
     "text": [
      "5\n",
      "(1, 5)\n"
     ]
    }
   ],
   "source": [
    "indice_h_tupla2 = valores.index('h')\n",
    "\n",
    "for i, elemento in enumerate(tupla3):\n",
    "    if isinstance(elemento, tuple) and 'h' in elemento:\n",
    "        nested_index = elemento.index('h')\n",
    "        indice_h_tupla3 = (i, nested_index)\n",
    "        break\n",
    "\n",
    "print(indice_h_tupla2)\n",
    "print(indice_h_tupla3)"
   ]
  }
 ],
 "metadata": {
  "kernelspec": {
   "display_name": "Python 3",
   "language": "python",
   "name": "python3"
  },
  "language_info": {
   "codemirror_mode": {
    "name": "ipython",
    "version": 3
   },
   "file_extension": ".py",
   "mimetype": "text/x-python",
   "name": "python",
   "nbconvert_exporter": "python",
   "pygments_lexer": "ipython3",
   "version": "3.13.1"
  }
 },
 "nbformat": 4,
 "nbformat_minor": 2
}

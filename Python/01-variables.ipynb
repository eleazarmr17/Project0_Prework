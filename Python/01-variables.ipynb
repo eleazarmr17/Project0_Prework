{
 "cells": [
  {
   "cell_type": "markdown",
   "metadata": {},
   "source": [
    "<div style=\"text-align: center;\">\n",
    "  <img src=\"https://github.com/Hack-io-Data/Imagenes/blob/main/01-LogosHackio/logo_celeste@4x.png?raw=true\" alt=\"logo hack(io)\" />\n",
    "</div>"
   ]
  },
  {
   "cell_type": "markdown",
   "metadata": {},
   "source": [
    "## Tipos de datos\n",
    "\n",
    "Es esencial comprender los distintos tipos de datos en Python, como enteros, flotantes, cadenas de texto, booleanos, listas, tuplas y diccionarios. Este conocimiento es fundamental para el diseño de algoritmos, ya que los tipos de datos determinan cómo se almacenan y procesan los datos en la memoria.\n",
    "\n",
    "En esta batería de ejercicios, exploraremos los tipos de datos en Python y cómo utilizarlos eficientemente. Desde los conceptos básicos hasta los más avanzados, esta serie de ejercicios está diseñada para mejorar las habilidades de programación en Python y profundizar la comprensión de los tipos de datos, esencial para desarrollar aplicaciones de calidad y eficientes."
   ]
  },
  {
   "cell_type": "markdown",
   "metadata": {},
   "source": [
    "### Ejercicio 1: Operaciones aritméticas con números complejos\n",
    "\n",
    "1-Declara dos variables `numero1` y `numero2` y asigna a ellas valores numéricos complejos.\n",
    "\n",
    "2-Realiza las siguientes operaciones: suma, resta, multiplicación y división.\n",
    "\n",
    "3-Imprime en pantalla el resultado de cada operación utilizando la función `print()`."
   ]
  },
  {
   "cell_type": "code",
   "execution_count": 3,
   "metadata": {},
   "outputs": [
    {
     "name": "stdout",
     "output_type": "stream",
     "text": [
      "En este ejercicio obtenemos los siguientes resultados:\n",
      "Suma: (4+6j)\n",
      "Resta: (2+2j)\n",
      "Multiplicación: (-5+10j)\n",
      "División: (2.2-0.4j)\n"
     ]
    }
   ],
   "source": [
    "# Declarar dos variables con números complejos\n",
    "numero1 = 3 + 4j  # Primer número complejo\n",
    "numero2 = 1 + 2j  # Segundo número complejo\n",
    "\n",
    "# Realizar las operaciones suma, resta, multiplicación y división\n",
    "suma = numero1 + numero2\n",
    "resta = numero1 - numero2\n",
    "multiplicacion = numero1 * numero2\n",
    "division = numero1 / numero2\n",
    "\n",
    "# Imprimir los resultados con saltos de línea\n",
    "print('En este ejercicio obtenemos los siguientes resultados:\\n'\n",
    "      'Suma: {a}\\n'\n",
    "      'Resta: {b}\\n'\n",
    "      'Multiplicación: {c}\\n'\n",
    "      'División: {d}'.format(a=suma, b=resta, c=multiplicacion, d=division))\n"
   ]
  },
  {
   "cell_type": "markdown",
   "metadata": {},
   "source": [
    "### Ejercicio 2: Formateo de cadenas de texto\n",
    "\n",
    "1-Declara una variable `nombre` y asigna a ella el valor 'Juan'.\n",
    "\n",
    "2-Declara una variable `edad` y asigna a ella el valor 25.\n",
    "\n",
    "3- Declara una variable llamada `peso` y asigna a ella el valor 75.5.\n",
    "\n",
    "4-Declara una variable llamada `altura` y asigna a ella el valor 1.75.\n",
    "\n",
    "5-Imprime en pantalla el valor de cada variable utilizando la función print().\n",
    "\n",
    "6-Utiliza el formateo de cadenas de texto para imprimir en pantalla un mensaje que diga: `Hola me llamo Juan, tengo 25 años, peso 75.5 kg y mido 1.75 m`."
   ]
  },
  {
   "cell_type": "code",
   "execution_count": 6,
   "metadata": {},
   "outputs": [
    {
     "name": "stdout",
     "output_type": "stream",
     "text": [
      "Los valores registrados son: \n",
      "Nombre - Juan \n",
      "Edad - 25 \n",
      "Peso - 75.5 \n",
      "Altura - 1.75\n",
      "Hola me llamo Juan, tengo 25 años, peso 75.5 kg y mido 1.75 m.\n"
     ]
    }
   ],
   "source": [
    "# Declarar una variable nombre con valor 'Juan' asignado\n",
    "nombre = 'Juan' #usamos '' por preferencia, pero también valdría \"\"\n",
    "\n",
    "# Declarar variable edad con valor asignado de 25\n",
    "edad = 25\n",
    "\n",
    "# Declarar variable peso con valor asignado de 75.5\n",
    "peso = 75.5\n",
    "\n",
    "# Declarar variable altura con valor asignado 1.75\n",
    "altura = 1.75\n",
    "\n",
    "# Imprimir en pantalla el valor de cada variable usando la funcion print\n",
    "print('Los valores registrados son: \\n'\n",
    "      'Nombre - {a} \\n'\n",
    "      'Edad - {b} \\n'\n",
    "      'Peso - {c} \\n'\n",
    "      'Altura - {d}'.format(a=nombre, b=edad, c=peso, d=altura))\n",
    "\n",
    "# Formatear las cadenas de texto\n",
    "print('Hola me llamo {a}, tengo {b} años, peso {c} kg y mido {d} m.'.format(a=nombre, b=edad, c=peso, d=altura))\n"
   ]
  },
  {
   "cell_type": "markdown",
   "metadata": {},
   "source": [
    "### Ejercicio 3: Conversión de cadenas de texto a números\n",
    "\n",
    "\n",
    "1-Declara una variable `cadena` y asigna a ella el valor '10'.\n",
    "\n",
    "2-Utiliza la función type() para obtener el tipo de dato de `cadena` y asigna el resultado a una variable llamada `tipo`.\n",
    "\n",
    "3- Imprime en pantalla el valor de `tipo` utilizando la función print().\n",
    "\n",
    "4-Convierte el valor de `cadena` a entero y asigna el resultado a una variable llamada `numero`.\n",
    "\n",
    "5-Realiza la operación de incremento en `numero` y asigna el resultado a la misma variable.\n"
   ]
  },
  {
   "cell_type": "code",
   "execution_count": 11,
   "metadata": {},
   "outputs": [
    {
     "name": "stdout",
     "output_type": "stream",
     "text": [
      "El tipo de cadena es  <class 'str'>\n",
      "El numero obtenido tras realizar el incremento es de  11\n"
     ]
    }
   ],
   "source": [
    "# Declarar variable llamada cadena con valor '10'\n",
    "cadena = '10'\n",
    "\n",
    "# Usar funcion type para ver el tipo de dato de cadena y asignarselo a una variable llamada tipo\n",
    "tipo = type(cadena)\n",
    "\n",
    "# Imprimir en pantalla el valor de tipo\n",
    "print('El tipo de cadena es ', tipo)\n",
    "\n",
    "# Convertir el valor de cadena a entero y asignar el resultado a una variable llamada numero\n",
    "numero = int(cadena)\n",
    "\n",
    "# Realizar la operacion incremento en numero, asignando el resultado a la misma variable\n",
    "numero += 1\n",
    "print('El numero obtenido tras realizar el incremento es de ', numero)"
   ]
  },
  {
   "cell_type": "markdown",
   "metadata": {},
   "source": [
    "### Ejercicio 4: Uso de la función input()\n",
    "\n",
    "1-Utiliza la función input() para solicitar al usuario que ingrese un número.\n",
    "\n",
    "2-Asigna el valor ingresado por el usuario a una variable llamada `numero`.\n",
    "\n",
    "3-Realiza la operación de incremento en `numero` y asigna el resultado a la misma variable.\n",
    "\n",
    "4-Imprime en pantalla el valor de numero utilizando la función print()."
   ]
  },
  {
   "cell_type": "code",
   "execution_count": 7,
   "metadata": {},
   "outputs": [
    {
     "name": "stdout",
     "output_type": "stream",
     "text": [
      "El valor obtenido tras el incremento es de  9\n"
     ]
    }
   ],
   "source": [
    "# Usar función input para solicitar al usuario que ingrese un número\n",
    "numero = int(input('Ingrese un número'))\n",
    "\n",
    "# Realizar la función incremento\n",
    "numero += 1\n",
    "\n",
    "# Imprimir en pantalla el valor de numero\n",
    "print('El valor obtenido tras el incremento es de ', numero)"
   ]
  }
 ],
 "metadata": {
  "kernelspec": {
   "display_name": "Python 3",
   "language": "python",
   "name": "python3"
  },
  "language_info": {
   "codemirror_mode": {
    "name": "ipython",
    "version": 3
   },
   "file_extension": ".py",
   "mimetype": "text/x-python",
   "name": "python",
   "nbconvert_exporter": "python",
   "pygments_lexer": "ipython3",
   "version": "3.13.1"
  }
 },
 "nbformat": 4,
 "nbformat_minor": 2
}

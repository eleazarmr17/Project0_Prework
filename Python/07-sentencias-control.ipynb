{
 "cells": [
  {
   "cell_type": "markdown",
   "metadata": {},
   "source": [
    "<div style=\"text-align: center;\">\n",
    "  <img src=\"https://github.com/Hack-io-Data/Imagenes/blob/main/01-LogosHackio/logo_celeste@4x.png?raw=true\" alt=\"logo hack(io)\" />\n",
    "</div>"
   ]
  },
  {
   "cell_type": "markdown",
   "metadata": {},
   "source": [
    "#### 1. Escribe un programa que determine si un número es par o impar.\n",
    "\n"
   ]
  },
  {
   "cell_type": "code",
   "execution_count": 2,
   "metadata": {},
   "outputs": [
    {
     "name": "stdout",
     "output_type": "stream",
     "text": [
      "El numero es impar\n"
     ]
    }
   ],
   "source": [
    "numero = int(input('Introduce un numero'))\n",
    "\n",
    "if numero % 2 == 0:\n",
    "    print('El número es par')\n",
    "else:\n",
    "    print('El numero es impar')"
   ]
  },
  {
   "cell_type": "markdown",
   "metadata": {},
   "source": [
    "#### 2. Genera un programa que nos diga si es de noche, de día o tarde según la hora proporcionada por el usuario."
   ]
  },
  {
   "cell_type": "code",
   "execution_count": 12,
   "metadata": {},
   "outputs": [
    {
     "name": "stdout",
     "output_type": "stream",
     "text": [
      "Es de noche\n"
     ]
    }
   ],
   "source": [
    "hora = int(input('Introduce una hora (en formato 0-23)'))\n",
    "\n",
    "if 0<= hora <= 23:\n",
    "    if 0 <= hora <= 6 or 23 <= hora <= 23:\n",
    "        print('Es de noche')\n",
    "    elif 6 < hora <= 12:\n",
    "        print('Es de día')\n",
    "    else:\n",
    "        print('Es tarde')\n",
    "else:\n",
    "    print('Hora no válida')"
   ]
  },
  {
   "cell_type": "markdown",
   "metadata": {},
   "source": [
    "#### 3. Dado un nombre imprime un saludo personalizado."
   ]
  },
  {
   "cell_type": "code",
   "execution_count": 13,
   "metadata": {},
   "outputs": [
    {
     "name": "stdout",
     "output_type": "stream",
     "text": [
      "Hola pedro\n"
     ]
    }
   ],
   "source": [
    "nombre = str(input('Como te llamas?'))\n",
    "\n",
    "print('Hola {x}'.format(x=nombre))"
   ]
  },
  {
   "cell_type": "markdown",
   "metadata": {},
   "source": [
    "#### 4. Escribe un programa que determine qué calificación en texto tiene un alumno en base a su calificación numérica. Las reglas de calificación son: \n",
    "\n",
    "- 0 - 69 insuficiente\n",
    "\n",
    "- 70 - 79 bien\n",
    "\n",
    "- 80 - 89 muy bien\n",
    "\n",
    "- 90 - 100 excelente\n"
   ]
  },
  {
   "cell_type": "code",
   "execution_count": 20,
   "metadata": {},
   "outputs": [
    {
     "name": "stdout",
     "output_type": "stream",
     "text": [
      "Excelente\n"
     ]
    }
   ],
   "source": [
    "calificacion = int(input('Introduce la nota del alumno (0-100)'))\n",
    "\n",
    "if calificacion < 0 or calificacion > 100:\n",
    "    print('Calificacion no valida')\n",
    "else:\n",
    "    if 0 <= calificacion < 70:\n",
    "        print('Insuficiente')\n",
    "    elif 70 <= calificacion < 80:\n",
    "        print('Bien')\n",
    "    elif 80 <= calificacion < 90:\n",
    "        print('Muy Bien')\n",
    "    else:\n",
    "        print('Excelente')"
   ]
  },
  {
   "cell_type": "markdown",
   "metadata": {},
   "source": [
    "#### 5. Escribe un programa que imprima el día de la semana, dado un número del 1 al 7.\n"
   ]
  },
  {
   "cell_type": "code",
   "execution_count": 29,
   "metadata": {},
   "outputs": [
    {
     "name": "stdout",
     "output_type": "stream",
     "text": [
      "Estamos a Miercoles\n"
     ]
    }
   ],
   "source": [
    "lista_dias = ['Lunes', 'Martes', 'Miercoles', 'Jueves', 'Viernes', 'Sabado', 'Domingo']\n",
    "dia = int(input('Introduce el numero de dia de la semana (formato 1-7)'))\n",
    "\n",
    "if dia <= 0 or dia >= 8:\n",
    "    print('Numero no valido')\n",
    "else: \n",
    "    print('Estamos a', lista_dias[dia-1])"
   ]
  },
  {
   "cell_type": "markdown",
   "metadata": {},
   "source": [
    "#### 6. Escribe un programa que determine si un número es positivo, negativo o cero."
   ]
  },
  {
   "cell_type": "code",
   "execution_count": 32,
   "metadata": {},
   "outputs": [
    {
     "name": "stdout",
     "output_type": "stream",
     "text": [
      "Numero negativo\n"
     ]
    }
   ],
   "source": [
    "numero = int(input('Introduce un numero'))\n",
    "\n",
    "if numero == 0:\n",
    "    print('Numero igual a 0')\n",
    "elif numero > 0:\n",
    "    print('Numero positivo')\n",
    "else:\n",
    "    print('Numero negativo')"
   ]
  },
  {
   "cell_type": "markdown",
   "metadata": {},
   "source": [
    "#### 7. Escribe un programa que determine si una persona puede conducir o no. La edad mínima para conducir es 18 años. \n"
   ]
  },
  {
   "cell_type": "code",
   "execution_count": 36,
   "metadata": {},
   "outputs": [
    {
     "name": "stdout",
     "output_type": "stream",
     "text": [
      "Primero sacate el carnet y luego podras conducir\n"
     ]
    }
   ],
   "source": [
    "edad = int(input('Introduce tu edad'))\n",
    "\n",
    "if edad <18:\n",
    "    print('No puedes conducir, te toca esperar', 18 - edad, ' años')\n",
    "else:\n",
    "    carnet = str(input('Tienes carnet? (si/no)'))\n",
    "    if carnet == 'si':\n",
    "        print('Puedes conducir')\n",
    "    else:\n",
    "        print('Primero sacate el carnet y luego podras conducir')"
   ]
  },
  {
   "cell_type": "markdown",
   "metadata": {},
   "source": [
    "#### 8. Escribe un programa que determine si un estudiante aprobó o suspendió un examen."
   ]
  },
  {
   "cell_type": "code",
   "execution_count": 49,
   "metadata": {},
   "outputs": [
    {
     "name": "stdout",
     "output_type": "stream",
     "text": [
      "Suspenso\n"
     ]
    },
    {
     "ename": "",
     "evalue": "",
     "output_type": "error",
     "traceback": [
      "\u001b[1;31mThe Kernel crashed while executing code in the current cell or a previous cell. \n",
      "\u001b[1;31mPlease review the code in the cell(s) to identify a possible cause of the failure. \n",
      "\u001b[1;31mClick <a href='https://aka.ms/vscodeJupyterKernelCrash'>here</a> for more info. \n",
      "\u001b[1;31mView Jupyter <a href='command:jupyter.viewOutput'>log</a> for further details."
     ]
    }
   ],
   "source": [
    "calificacion = int(input('Introduce la nota del alumno (0-100)'))\n",
    "\n",
    "if calificacion < 0 or calificacion > 100:\n",
    "    print('Calificacion no valida')\n",
    "else:\n",
    "    if 0 <= calificacion < 50:\n",
    "        print('Suspenso')\n",
    "    else:\n",
    "        print('Aprobado')"
   ]
  },
  {
   "cell_type": "markdown",
   "metadata": {},
   "source": [
    "#### 9. Escribe un programa que determine si un número es múltiplo de 3 y 5.\n"
   ]
  },
  {
   "cell_type": "code",
   "execution_count": 46,
   "metadata": {},
   "outputs": [
    {
     "name": "stdout",
     "output_type": "stream",
     "text": [
      "El número es múltiplo de 3 y 5.\n"
     ]
    }
   ],
   "source": [
    "# Solicitar al usuario que introduzca un número\n",
    "numero = int(input('Introduce un número: '))\n",
    "\n",
    "# Verificar las condiciones de múltiplo\n",
    "if numero % 3 == 0 and numero % 5 == 0:\n",
    "    print('El número es múltiplo de 3 y 5.')\n",
    "elif numero % 3 == 0:\n",
    "    print('El número es múltiplo de 3.')\n",
    "elif numero % 5 == 0:\n",
    "    print('El número es múltiplo de 5.')\n",
    "else:\n",
    "    print('El número no es múltiplo ni de 3 ni de 5.')\n"
   ]
  },
  {
   "cell_type": "markdown",
   "metadata": {},
   "source": [
    "#### 10. Escribe un programa que determine si un número es par o impar.\n"
   ]
  },
  {
   "cell_type": "code",
   "execution_count": 37,
   "metadata": {},
   "outputs": [
    {
     "name": "stdout",
     "output_type": "stream",
     "text": [
      "El número es par\n"
     ]
    }
   ],
   "source": [
    "numero = int(input('Introduce un numero'))\n",
    "\n",
    "if numero % 2 == 0:\n",
    "    print('El número es par')\n",
    "else:\n",
    "    print('El numero es impar')"
   ]
  }
 ],
 "metadata": {
  "kernelspec": {
   "display_name": "Python 3",
   "language": "python",
   "name": "python3"
  },
  "language_info": {
   "codemirror_mode": {
    "name": "ipython",
    "version": 3
   },
   "file_extension": ".py",
   "mimetype": "text/x-python",
   "name": "python",
   "nbconvert_exporter": "python",
   "pygments_lexer": "ipython3",
   "version": "3.13.1"
  }
 },
 "nbformat": 4,
 "nbformat_minor": 2
}

{
 "cells": [
  {
   "cell_type": "markdown",
   "metadata": {},
   "source": [
    "<div style=\"text-align: center;\">\n",
    "  <img src=\"https://github.com/Hack-io-Data/Imagenes/blob/main/01-LogosHackio/logo_celeste@4x.png?raw=true\" alt=\"logo hack(io)\" />\n",
    "</div>"
   ]
  },
  {
   "cell_type": "markdown",
   "metadata": {},
   "source": [
    "####  1. Genera una lista de números del 0 al 4 y luego imprime cada número en la lista usando un `bucle for`. "
   ]
  },
  {
   "cell_type": "code",
   "execution_count": 1,
   "metadata": {},
   "outputs": [
    {
     "name": "stdout",
     "output_type": "stream",
     "text": [
      "0\n",
      "1\n",
      "2\n",
      "3\n",
      "4\n"
     ]
    }
   ],
   "source": [
    "numeros = [0,1,2,3,4]\n",
    "\n",
    "for i in numeros:\n",
    "    print(i)"
   ]
  },
  {
   "cell_type": "markdown",
   "metadata": {},
   "source": [
    "#### 2. Itera sobre una lista de frutas y muestra cada fruta en mayúsculas. \n"
   ]
  },
  {
   "cell_type": "code",
   "execution_count": 2,
   "metadata": {},
   "outputs": [
    {
     "name": "stdout",
     "output_type": "stream",
     "text": [
      "Manzana\n",
      "Piña\n",
      "Limon\n",
      "Manzana\n",
      "Coco\n"
     ]
    }
   ],
   "source": [
    "frutas = ['manzana', 'piña', 'limon', 'manzana', 'coco']\n",
    "\n",
    "for i in frutas:\n",
    "    print(i.capitalize())"
   ]
  },
  {
   "cell_type": "markdown",
   "metadata": {},
   "source": [
    "####  3. Genera un bucle while que imprima los números del 0 al 4. \n"
   ]
  },
  {
   "cell_type": "code",
   "execution_count": 3,
   "metadata": {},
   "outputs": [
    {
     "name": "stdout",
     "output_type": "stream",
     "text": [
      "0\n",
      "1\n",
      "2\n",
      "3\n",
      "4\n"
     ]
    }
   ],
   "source": [
    "num = 0\n",
    "while num < 5:\n",
    "    print(num)\n",
    "    num += 1"
   ]
  },
  {
   "cell_type": "markdown",
   "metadata": {},
   "source": [
    "#### 4. Genera un bucle del 0 al 9, pero que se detenga en el 5.\n"
   ]
  },
  {
   "cell_type": "code",
   "execution_count": 4,
   "metadata": {},
   "outputs": [
    {
     "name": "stdout",
     "output_type": "stream",
     "text": [
      "0\n",
      "1\n",
      "2\n",
      "3\n",
      "4\n",
      "5\n"
     ]
    }
   ],
   "source": [
    "num = 0\n",
    "\n",
    "while num < 9:\n",
    "    print(num)\n",
    "    if num == 5:\n",
    "        break\n",
    "    num += 1\n"
   ]
  },
  {
   "cell_type": "markdown",
   "metadata": {},
   "source": [
    "#### 5. Recorre los números del 0 al 9 e imprime solo los números impares."
   ]
  },
  {
   "cell_type": "code",
   "execution_count": 5,
   "metadata": {},
   "outputs": [
    {
     "name": "stdout",
     "output_type": "stream",
     "text": [
      "1\n",
      "3\n",
      "5\n",
      "7\n",
      "9\n"
     ]
    }
   ],
   "source": [
    "num = 0\n",
    "\n",
    "while num < 10:\n",
    "    if num % 2 != 0:\n",
    "        print(num)\n",
    "    num +=1"
   ]
  },
  {
   "cell_type": "markdown",
   "metadata": {},
   "source": [
    "#### 6. Dada la lista `[10, 20, 30, 40, 50]`, calcula la suma de todos los elementos usando un bucle `for`."
   ]
  },
  {
   "cell_type": "code",
   "execution_count": 6,
   "metadata": {},
   "outputs": [
    {
     "name": "stdout",
     "output_type": "stream",
     "text": [
      "150\n"
     ]
    }
   ],
   "source": [
    "numeros = [10,20,30,40,50]\n",
    "suma = 0\n",
    "\n",
    "for i in numeros:\n",
    "    suma = suma + i\n",
    "print(suma)"
   ]
  },
  {
   "cell_type": "markdown",
   "metadata": {},
   "source": [
    "#### 7. Dada la cadena `\"Hola mundo\"`, cuenta cuántas veces aparecen las vocales (`a`, `e`, `i`, `o`, `u`) usando un bucle `for`.\n"
   ]
  },
  {
   "cell_type": "code",
   "execution_count": 7,
   "metadata": {},
   "outputs": [
    {
     "name": "stdout",
     "output_type": "stream",
     "text": [
      "Numero de vocales a: 1\n",
      "Numero de vocales e: 0\n",
      "Numero de vocales i: 0\n",
      "Numero de vocales o: 2\n",
      "Numero de vocales u: 1\n"
     ]
    }
   ],
   "source": [
    "texto = 'Hola mundo'\n",
    "texto = texto.lower() # convertimos el texto a minusculas para evitar errores\n",
    "contador_a = 0\n",
    "contador_e = 0\n",
    "contador_i = 0\n",
    "contador_o = 0\n",
    "contador_u = 0\n",
    "\n",
    "for char in texto:\n",
    "    if char == 'a':\n",
    "        contador_a += 1\n",
    "    elif char == 'e':\n",
    "        contador_e += 1\n",
    "    elif char == 'i':\n",
    "        contador_i += 1\n",
    "    elif char == 'o':\n",
    "        contador_o += 1\n",
    "    elif char == 'u':\n",
    "        contador_u += 1\n",
    "\n",
    "print('Numero de vocales a:',contador_a)\n",
    "print('Numero de vocales e:',contador_e)\n",
    "print('Numero de vocales i:',contador_i)\n",
    "print('Numero de vocales o:',contador_o)\n",
    "print('Numero de vocales u:',contador_u)"
   ]
  },
  {
   "cell_type": "markdown",
   "metadata": {},
   "source": [
    "#### 8. Dada la cadena `\"Python\"`, usa un bucle `for` para imprimir los caracteres en orden inverso (`n`, `o`, `h`, `t`, `y`, `P`).\n"
   ]
  },
  {
   "cell_type": "code",
   "execution_count": 8,
   "metadata": {},
   "outputs": [
    {
     "name": "stdout",
     "output_type": "stream",
     "text": [
      "n\n",
      "o\n",
      "h\n",
      "t\n",
      "y\n",
      "P\n"
     ]
    }
   ],
   "source": [
    "cadena = 'Python'\n",
    "\n",
    "for char in reversed(cadena):\n",
    "    print(char)"
   ]
  },
  {
   "cell_type": "markdown",
   "metadata": {},
   "source": [
    "#### 9. Dada la lista `[1, 2, 3, 4, 5]`, multiplica todos sus elementos usando un bucle `for` y almacena los resultados en una lista nueva. \n"
   ]
  },
  {
   "cell_type": "code",
   "execution_count": 9,
   "metadata": {},
   "outputs": [
    {
     "name": "stdout",
     "output_type": "stream",
     "text": [
      "120\n"
     ]
    }
   ],
   "source": [
    "numeros = [1,2,3,4,5]\n",
    "producto = 1\n",
    "\n",
    "for i in numeros:\n",
    "    producto = producto * i\n",
    "print(producto)"
   ]
  },
  {
   "cell_type": "markdown",
   "metadata": {},
   "source": [
    "#### 10. Dada la lista `[1, 2, 3, 4, 5, 6, 7, 8, 9, 10]`, utiliza un bucle `for` para contar cuántos números son pares y cuántos son impares."
   ]
  },
  {
   "cell_type": "code",
   "execution_count": 10,
   "metadata": {},
   "outputs": [
    {
     "name": "stdout",
     "output_type": "stream",
     "text": [
      "Conteo Pares: 5\n",
      "Conteo Impares: 5\n"
     ]
    }
   ],
   "source": [
    "numeros = [1,2,3,4,5,6,7,8,9,10]\n",
    "contador_pares = 0\n",
    "contador_impares = 0\n",
    "\n",
    "for i in numeros:\n",
    "    if i % 2 == 0:\n",
    "        contador_pares += 1\n",
    "    else:\n",
    "        contador_impares += 1\n",
    "\n",
    "print('Conteo Pares:', contador_pares)\n",
    "print('Conteo Impares:', contador_impares)\n"
   ]
  },
  {
   "cell_type": "markdown",
   "metadata": {},
   "source": [
    "#### 11. Escribe un programa que solicite al usuario un número entero positivo (`n`) y calcule la suma de todos los números primos menores o iguales a `n`. Utiliza un bucle `for` para iterar sobre cada número y verifica si es primo."
   ]
  },
  {
   "cell_type": "code",
   "execution_count": 11,
   "metadata": {},
   "outputs": [
    {
     "ename": "KeyboardInterrupt",
     "evalue": "Interrupted by user",
     "output_type": "error",
     "traceback": [
      "\u001b[1;31m---------------------------------------------------------------------------\u001b[0m",
      "\u001b[1;31mKeyboardInterrupt\u001b[0m                         Traceback (most recent call last)",
      "Cell \u001b[1;32mIn[11], line 1\u001b[0m\n\u001b[1;32m----> 1\u001b[0m n \u001b[38;5;241m=\u001b[39m \u001b[38;5;28mint\u001b[39m(\u001b[38;5;28;43minput\u001b[39;49m\u001b[43m(\u001b[49m\u001b[38;5;124;43m'\u001b[39;49m\u001b[38;5;124;43mDame un numero entero positivo\u001b[39;49m\u001b[38;5;124;43m'\u001b[39;49m\u001b[43m)\u001b[49m)\n\u001b[0;32m      3\u001b[0m \u001b[38;5;28;01mif\u001b[39;00m n \u001b[38;5;241m>\u001b[39m \u001b[38;5;241m0\u001b[39m:\n\u001b[0;32m      4\u001b[0m     suma_primos \u001b[38;5;241m=\u001b[39m \u001b[38;5;241m0\u001b[39m\n",
      "File \u001b[1;32m~\\AppData\\Roaming\\Python\\Python313\\site-packages\\ipykernel\\kernelbase.py:1282\u001b[0m, in \u001b[0;36mKernel.raw_input\u001b[1;34m(self, prompt)\u001b[0m\n\u001b[0;32m   1280\u001b[0m     msg \u001b[38;5;241m=\u001b[39m \u001b[38;5;124m\"\u001b[39m\u001b[38;5;124mraw_input was called, but this frontend does not support input requests.\u001b[39m\u001b[38;5;124m\"\u001b[39m\n\u001b[0;32m   1281\u001b[0m     \u001b[38;5;28;01mraise\u001b[39;00m StdinNotImplementedError(msg)\n\u001b[1;32m-> 1282\u001b[0m \u001b[38;5;28;01mreturn\u001b[39;00m \u001b[38;5;28;43mself\u001b[39;49m\u001b[38;5;241;43m.\u001b[39;49m\u001b[43m_input_request\u001b[49m\u001b[43m(\u001b[49m\n\u001b[0;32m   1283\u001b[0m \u001b[43m    \u001b[49m\u001b[38;5;28;43mstr\u001b[39;49m\u001b[43m(\u001b[49m\u001b[43mprompt\u001b[49m\u001b[43m)\u001b[49m\u001b[43m,\u001b[49m\n\u001b[0;32m   1284\u001b[0m \u001b[43m    \u001b[49m\u001b[38;5;28;43mself\u001b[39;49m\u001b[38;5;241;43m.\u001b[39;49m\u001b[43m_parent_ident\u001b[49m\u001b[43m[\u001b[49m\u001b[38;5;124;43m\"\u001b[39;49m\u001b[38;5;124;43mshell\u001b[39;49m\u001b[38;5;124;43m\"\u001b[39;49m\u001b[43m]\u001b[49m\u001b[43m,\u001b[49m\n\u001b[0;32m   1285\u001b[0m \u001b[43m    \u001b[49m\u001b[38;5;28;43mself\u001b[39;49m\u001b[38;5;241;43m.\u001b[39;49m\u001b[43mget_parent\u001b[49m\u001b[43m(\u001b[49m\u001b[38;5;124;43m\"\u001b[39;49m\u001b[38;5;124;43mshell\u001b[39;49m\u001b[38;5;124;43m\"\u001b[39;49m\u001b[43m)\u001b[49m\u001b[43m,\u001b[49m\n\u001b[0;32m   1286\u001b[0m \u001b[43m    \u001b[49m\u001b[43mpassword\u001b[49m\u001b[38;5;241;43m=\u001b[39;49m\u001b[38;5;28;43;01mFalse\u001b[39;49;00m\u001b[43m,\u001b[49m\n\u001b[0;32m   1287\u001b[0m \u001b[43m\u001b[49m\u001b[43m)\u001b[49m\n",
      "File \u001b[1;32m~\\AppData\\Roaming\\Python\\Python313\\site-packages\\ipykernel\\kernelbase.py:1325\u001b[0m, in \u001b[0;36mKernel._input_request\u001b[1;34m(self, prompt, ident, parent, password)\u001b[0m\n\u001b[0;32m   1322\u001b[0m \u001b[38;5;28;01mexcept\u001b[39;00m \u001b[38;5;167;01mKeyboardInterrupt\u001b[39;00m:\n\u001b[0;32m   1323\u001b[0m     \u001b[38;5;66;03m# re-raise KeyboardInterrupt, to truncate traceback\u001b[39;00m\n\u001b[0;32m   1324\u001b[0m     msg \u001b[38;5;241m=\u001b[39m \u001b[38;5;124m\"\u001b[39m\u001b[38;5;124mInterrupted by user\u001b[39m\u001b[38;5;124m\"\u001b[39m\n\u001b[1;32m-> 1325\u001b[0m     \u001b[38;5;28;01mraise\u001b[39;00m \u001b[38;5;167;01mKeyboardInterrupt\u001b[39;00m(msg) \u001b[38;5;28;01mfrom\u001b[39;00m \u001b[38;5;28;01mNone\u001b[39;00m\n\u001b[0;32m   1326\u001b[0m \u001b[38;5;28;01mexcept\u001b[39;00m \u001b[38;5;167;01mException\u001b[39;00m:\n\u001b[0;32m   1327\u001b[0m     \u001b[38;5;28mself\u001b[39m\u001b[38;5;241m.\u001b[39mlog\u001b[38;5;241m.\u001b[39mwarning(\u001b[38;5;124m\"\u001b[39m\u001b[38;5;124mInvalid Message:\u001b[39m\u001b[38;5;124m\"\u001b[39m, exc_info\u001b[38;5;241m=\u001b[39m\u001b[38;5;28;01mTrue\u001b[39;00m)\n",
      "\u001b[1;31mKeyboardInterrupt\u001b[0m: Interrupted by user"
     ]
    }
   ],
   "source": [
    "n = int(input('Dame un numero entero positivo'))\n",
    "\n",
    "if n > 0:\n",
    "    suma_primos = 0\n",
    "    for num in range(2, n + 1):  # Iterar desde 2 hasta n\n",
    "        es_primo = True  # Suponemos que el número es primo\n",
    "        for i in range(2, int(num ** 0.5) + 1):  # Verificar divisores hasta la raíz cuadrada\n",
    "            if num % i == 0:  # Si num tiene un divisor, no es primo\n",
    "                es_primo = False\n",
    "                break  # No necesitamos seguir comprobando\n",
    "        if es_primo == True:  # Si sigue siendo primo, añadirlo a la suma\n",
    "            suma_primos += num\n",
    "else:\n",
    "    print('Numero no valido')\n",
    "\n",
    "print(suma_primos)"
   ]
  },
  {
   "cell_type": "markdown",
   "metadata": {},
   "source": [
    "#### 12. Escribe un programa que solicite al usuario un número entero positivo (`n`) y luego imprima un patrón de asteriscos como el siguiente ejemplo para `n = 5`:\n",
    "```\n",
    "*\n",
    "**\n",
    "***\n",
    "****\n",
    "*****\n",
    "```\n",
    "Utiliza un bucle `for` anidado para controlar la cantidad de asteriscos en cada línea."
   ]
  },
  {
   "cell_type": "code",
   "execution_count": 27,
   "metadata": {},
   "outputs": [
    {
     "name": "stdout",
     "output_type": "stream",
     "text": [
      "*\n",
      "**\n",
      "***\n",
      "****\n",
      "*****\n"
     ]
    }
   ],
   "source": [
    "n = int(input('Dame un numero entero positivo'))\n",
    "\n",
    "for i in range(1, n+1):\n",
    "    for j in range(i):\n",
    "        print('*', end='')\n",
    "    print()\n"
   ]
  },
  {
   "cell_type": "markdown",
   "metadata": {},
   "source": [
    "#### 13. Dado un texto, utiliza un bucle `for` para contar cuántas veces aparece cada palabra en el texto. Ignora mayúsculas/minúsculas y los signos de puntuación."
   ]
  },
  {
   "cell_type": "code",
   "execution_count": 30,
   "metadata": {},
   "outputs": [
    {
     "name": "stdout",
     "output_type": "stream",
     "text": [
      "Conteo de palabras:\n",
      "hola: 1\n",
      "mi: 1\n",
      "nombre: 1\n",
      "es: 1\n",
      "eleazar: 1\n",
      "y: 1\n",
      "soy: 1\n",
      "data: 2\n",
      "scientis: 1\n",
      "por: 1\n",
      "eso: 1\n",
      "estoy: 1\n",
      "cursando: 1\n",
      "este: 1\n",
      "curso: 1\n",
      "en: 1\n",
      "science: 1\n"
     ]
    }
   ],
   "source": [
    "import string\n",
    "\n",
    "# Solicitar al usuario un texto\n",
    "texto = str(input(\"Introduce un texto: \"))\n",
    "\n",
    "# Convertir el texto a minúsculas y eliminar signos de puntuación\n",
    "texto_limpio = texto.lower().translate(str.maketrans(\"\", \"\", string.punctuation))\n",
    "\n",
    "# Dividir el texto en palabras\n",
    "palabras = texto_limpio.split()\n",
    "\n",
    "# Crear un diccionario para contar las palabras\n",
    "conteo_palabras = {}\n",
    "\n",
    "# Contar las palabras usando un bucle for\n",
    "for palabra in palabras:\n",
    "    if palabra in conteo_palabras:\n",
    "        conteo_palabras[palabra] += 1\n",
    "    else:\n",
    "        conteo_palabras[palabra] = 1\n",
    "\n",
    "# Imprimir el resultado\n",
    "print(\"Conteo de palabras:\")\n",
    "for palabra, conteo in conteo_palabras.items():\n",
    "    print(f\"{palabra}: {conteo}\")\n"
   ]
  },
  {
   "cell_type": "markdown",
   "metadata": {},
   "source": [
    "#### 14. Escribe un programa que solicite al usuario dos números enteros positivos (`inicio` y `fin`, donde `inicio <= fin`) y luego calcule la suma de los números pares y la suma de los números impares en ese rango. Utiliza un bucle `for` para iterar sobre cada número y una estructura `if-else` para clasificar y sumar los números pares e impares."
   ]
  },
  {
   "cell_type": "code",
   "execution_count": 32,
   "metadata": {},
   "outputs": [
    {
     "name": "stdout",
     "output_type": "stream",
     "text": [
      "Suma Pares: 20\n",
      "Suma Impares: 25\n"
     ]
    }
   ],
   "source": [
    "inicio = int(input('Introduce un numero de inicio'))\n",
    "fin = int(input('Introduce un numero de finalizacion'))\n",
    "suma_impares = 0\n",
    "suma_pares = 0\n",
    "\n",
    "for i in range(inicio, fin):\n",
    "    if i % 2 == 0:\n",
    "        suma_pares = suma_pares + i\n",
    "    else:\n",
    "        suma_impares = suma_impares + i\n",
    "\n",
    "print('Suma Pares:', suma_pares)\n",
    "print('Suma Impares:', suma_impares)\n"
   ]
  },
  {
   "cell_type": "markdown",
   "metadata": {},
   "source": [
    "#### 15. Escribe un programa que solicite al usuario un número entero positivo (`n`) y luego identifique todos los números primos menores o iguales a `n`. Para cada número, imprime si es primo o no usando un bucle `for` y una estructura `if-else` para verificar la condición de primalidad."
   ]
  },
  {
   "cell_type": "code",
   "execution_count": 35,
   "metadata": {},
   "outputs": [
    {
     "name": "stdout",
     "output_type": "stream",
     "text": [
      "2  Es primo\n",
      "3  Es primo\n",
      "4 No es primo\n",
      "5  Es primo\n",
      "6 No es primo\n",
      "7  Es primo\n",
      "8 No es primo\n",
      "9 No es primo\n",
      "10 No es primo\n",
      "11  Es primo\n"
     ]
    }
   ],
   "source": [
    "n = int(input('Introduce un numero entero positivo'))\n",
    "\n",
    "if n > 0:\n",
    "    for num in range(2, n + 1):  # Iterar desde 2 hasta n\n",
    "        es_primo = True  # Suponemos que el número es primo\n",
    "        for i in range(2, int(num ** 0.5) + 1):  # Verificar divisores hasta la raíz cuadrada\n",
    "            if num % i == 0:  # Si num tiene un divisor, no es primo\n",
    "                es_primo = False\n",
    "                break  # No necesitamos seguir comprobando\n",
    "        if es_primo == True:  # Si sigue siendo primo, añadirlo a la suma\n",
    "            print(num, ' Es primo')\n",
    "        else:\n",
    "            print(num, 'No es primo')\n",
    "else:\n",
    "    print('Numero no valido')\n"
   ]
  },
  {
   "cell_type": "markdown",
   "metadata": {},
   "source": [
    "#### 16.Dada una lista de precios `[100, 200, 300, 400, 500]`, aplica un descuento del 10% a todos los precios mayores a `250`. Imprime la lista actualizada de precios después de aplicar el descuento utilizando un bucle `for`. "
   ]
  },
  {
   "cell_type": "code",
   "execution_count": 43,
   "metadata": {},
   "outputs": [
    {
     "name": "stdout",
     "output_type": "stream",
     "text": [
      "[100, 200, 270.0, 360.0, 450.0]\n"
     ]
    }
   ],
   "source": [
    "lista_precios = [100, 200, 300, 400, 500]\n",
    "\n",
    "for i in range(len(lista_precios)):\n",
    "    if lista_precios[i] > 250:\n",
    "        lista_precios[i] = lista_precios[i]*0.9\n",
    "print(lista_precios)"
   ]
  },
  {
   "cell_type": "markdown",
   "metadata": {},
   "source": [
    "#### 17. Dada una lista de calificaciones de estudiantes `[85, 92, 78, 90, 88]`, clasifica a cada estudiante como \"Aprobado\" si la calificación es mayor o igual a `80` y como \"Reprobado\" si es menor a `80`. Imprime el nombre de cada estudiante junto con su estado utilizando un bucle `for` y una estructura `if-else`.\n"
   ]
  },
  {
   "cell_type": "code",
   "execution_count": 46,
   "metadata": {},
   "outputs": [
    {
     "name": "stdout",
     "output_type": "stream",
     "text": [
      "El alumno 1 Aprobado\n",
      "El alumno 2 Aprobado\n",
      "El alumno 3 Reprobado\n",
      "El alumno 4 Aprobado\n",
      "El alumno 5 Aprobado\n"
     ]
    }
   ],
   "source": [
    "lista_calificaciones = [85, 92, 78, 90, 88]\n",
    "\n",
    "for i in range(len(lista_calificaciones)):\n",
    "    if lista_calificaciones[i] > 80:\n",
    "        print('El alumno', i+1, 'Aprobado')\n",
    "    else:\n",
    "       print('El alumno', i+1, 'Reprobado')"
   ]
  },
  {
   "cell_type": "markdown",
   "metadata": {},
   "source": [
    "\n",
    "#### 18. Escribe un programa que solicite al usuario dos números enteros positivos (`inicio`, `fin`) y otro número entero positivo (`divisor`). Encuentra el número más grande en el rango desde `inicio` hasta `fin` que sea divisible por `divisor`. Utiliza un bucle `for` y una estructura `if-else` para verificar y mantener el registro del número más grande divisible por el divisor dado.\n"
   ]
  },
  {
   "cell_type": "code",
   "execution_count": null,
   "metadata": {},
   "outputs": [
    {
     "name": "stdout",
     "output_type": "stream",
     "text": [
      "El número más grande en el rango que es divisible por 3 es: 9\n"
     ]
    },
    {
     "ename": "",
     "evalue": "",
     "output_type": "error",
     "traceback": [
      "\u001b[1;31mThe Kernel crashed while executing code in the current cell or a previous cell. \n",
      "\u001b[1;31mPlease review the code in the cell(s) to identify a possible cause of the failure. \n",
      "\u001b[1;31mClick <a href='https://aka.ms/vscodeJupyterKernelCrash'>here</a> for more info. \n",
      "\u001b[1;31mView Jupyter <a href='command:jupyter.viewOutput'>log</a> for further details."
     ]
    }
   ],
   "source": [
    "# Solicitar datos al usuario\n",
    "inicio = int(input(\"Introduce el número inicial (entero positivo): \"))\n",
    "fin = int(input(\"Introduce el número final (entero positivo): \"))\n",
    "divisor = int(input(\"Introduce el divisor (entero positivo): \"))\n",
    "\n",
    "# Inicializar la variable para el número más grande divisible\n",
    "mayor_divisible = None\n",
    "\n",
    "# Recorrer el rango desde inicio hasta fin (inclusive)\n",
    "for num in range(inicio, fin + 1):\n",
    "    if num % divisor == 0:  # Verificar si el número es divisible por el divisor\n",
    "        mayor_divisible = num  # Actualizar el mayor divisible\n",
    "\n",
    "# Verificar si se encontró un número divisible\n",
    "if mayor_divisible is not None:\n",
    "    print(f\"El número más grande en el rango que es divisible por {divisor} es: {mayor_divisible}\")\n",
    "else:\n",
    "    print(f\"No hay números divisibles por {divisor} en el rango de {inicio} a {fin}.\")\n"
   ]
  }
 ],
 "metadata": {
  "kernelspec": {
   "display_name": "Python 3",
   "language": "python",
   "name": "python3"
  },
  "language_info": {
   "codemirror_mode": {
    "name": "ipython",
    "version": 3
   },
   "file_extension": ".py",
   "mimetype": "text/x-python",
   "name": "python",
   "nbconvert_exporter": "python",
   "pygments_lexer": "ipython3",
   "version": "3.13.1"
  }
 },
 "nbformat": 4,
 "nbformat_minor": 2
}
